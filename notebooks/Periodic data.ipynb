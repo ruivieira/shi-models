{
 "cells": [
  {
   "cell_type": "markdown",
   "id": "e41e964b-78e6-4525-827d-431d37a3e56d",
   "metadata": {},
   "source": [
    "# Data simulation"
   ]
  },
  {
   "cell_type": "markdown",
   "id": "7f04eb6b-d02b-4794-919d-df2671d8c0b8",
   "metadata": {
    "tags": []
   },
   "source": [
    "Using the Dynamic Generalised Models library https://github.com/ruivieira/python-ssm"
   ]
  },
  {
   "cell_type": "code",
   "execution_count": 1,
   "id": "694745a5-30a9-4d8b-89b0-31001abd8210",
   "metadata": {},
   "outputs": [],
   "source": [
    "from pssm.dglm import NormalDLM\n",
    "from pssm.structure import UnivariateStructure\n",
    "import numpy as np\n",
    "\n",
    "np.random.seed(23)"
   ]
  },
  {
   "cell_type": "markdown",
   "id": "d369aaca-6432-499e-aa90-14b5a1c926aa",
   "metadata": {},
   "source": [
    "Create a (univariate) DGLM with a period of 7 days (weekly) and a simple seasonal component with one harmonic.\n",
    "\n",
    "This corresponds to simulating daily hits on a web server with a weekly pattern.\n",
    "\n",
    "We will keep the underlying mean with a small variance to make it a (relatively) stable time-series."
   ]
  },
  {
   "cell_type": "code",
   "execution_count": 2,
   "id": "3e77dd5e-8be0-4aa6-9e68-82e32800bdfc",
   "metadata": {},
   "outputs": [],
   "source": [
    "period = 7\n",
    "\n",
    "structure = UnivariateStructure.locally_constant(1.4) + \\\n",
    "            UnivariateStructure.cyclic_fourier(period=period, harmonics=1, W=np.identity(2)*2)"
   ]
  },
  {
   "cell_type": "code",
   "execution_count": 3,
   "id": "0bd6dd40-a26b-4a2f-8fa1-e24d536c0eed",
   "metadata": {},
   "outputs": [],
   "source": [
    "ndlm = NormalDLM(structure=structure, V=1.5)"
   ]
  },
  {
   "cell_type": "code",
   "execution_count": 4,
   "id": "a58b905f-052f-460c-9cc6-401c51d74492",
   "metadata": {},
   "outputs": [
    {
     "data": {
      "text/plain": [
       "array([[ 1.        ,  0.        ,  0.        ],\n",
       "       [ 0.        ,  0.6234898 ,  0.78183148],\n",
       "       [ 0.        , -0.78183148,  0.6234898 ]])"
      ]
     },
     "execution_count": 4,
     "metadata": {},
     "output_type": "execute_result"
    }
   ],
   "source": [
    "structure.G"
   ]
  },
  {
   "cell_type": "markdown",
   "id": "63b8cc65-74ec-4c64-93fd-7e85b10ff214",
   "metadata": {},
   "source": [
    "Simulate a dataset with 365 days.\n",
    "\n",
    "Mean server hits prior of `100`."
   ]
  },
  {
   "cell_type": "code",
   "execution_count": 5,
   "id": "ac03c686-93c0-44fd-85ed-d286a0f224f9",
   "metadata": {},
   "outputs": [],
   "source": [
    "m0 = np.array([100, 0, 0])\n",
    "C0 = np.identity(3)\n",
    "state0 = np.random.multivariate_normal(m0, C0)\n",
    "\n",
    "states = [state0]\n",
    "\n",
    "N = 365\n",
    "\n",
    "for t in range(1, N):\n",
    "    states.append(ndlm.state(states[t-1]))\n",
    "    \n",
    "obs = [None]\n",
    "for t in range(1, N):\n",
    "    obs.append(ndlm.observation(states[t]))"
   ]
  },
  {
   "cell_type": "markdown",
   "id": "ec666763-77a7-49d2-83db-663b2a78cf45",
   "metadata": {},
   "source": [
    "Data for the first two \"months\" (~60 days)."
   ]
  },
  {
   "cell_type": "code",
   "execution_count": 6,
   "id": "ae06072a-f52c-4f8c-8991-5eff73c753b2",
   "metadata": {},
   "outputs": [
    {
     "data": {
      "text/plain": [
       "Text(0, 0.5, 'Hits')"
      ]
     },
     "execution_count": 6,
     "metadata": {},
     "output_type": "execute_result"
    },
    {
     "data": {
      "image/png": "[encoded data removed]",
      "text/plain": [
       "<Figure size 432x288 with 1 Axes>"
      ]
     },
     "metadata": {
      "needs_background": "light"
     },
     "output_type": "display_data"
    }
   ],
   "source": [
    "import matplotlib.pyplot as plt\n",
    "\n",
    "plt.plot(obs[0:60])\n",
    "plt.title(\"Daily hits\")\n",
    "plt.xlabel(\"Day\")\n",
    "plt.ylabel(\"Hits\")"
   ]
  },
  {
   "cell_type": "markdown",
   "id": "21f17ccb-6d13-480a-b2c8-a37f14ae6529",
   "metadata": {},
   "source": [
    "Add random anomalies by increasing the state randomly.\n",
    "\n",
    "We set the anomaly times manually just for testing, randomise later."
   ]
  },
  {
   "cell_type": "code",
   "execution_count": 7,
   "id": "cbb7a271-7dba-42ff-9c88-e5d13006aed7",
   "metadata": {},
   "outputs": [],
   "source": [
    "def generate_anomalous_data(structure, \n",
    "                            n_obs,\n",
    "                            m0,\n",
    "                            C0,\n",
    "                            V,\n",
    "                            anomaly_times,\n",
    "                            ratio):\n",
    "    ndlm = NormalDLM(structure=structure, V=V)\n",
    "    state0 = np.random.multivariate_normal(m0, C0)\n",
    "\n",
    "    states = [state0]\n",
    "\n",
    "    for t in range(1, n_obs):\n",
    "        states.append(ndlm.state(states[t-1]))\n",
    "    \n",
    "    for t in anomaly_times:\n",
    "        states[t] = states[t] * ratio\n",
    "    \n",
    "    obs = [None]\n",
    "    for t in range(1, N):\n",
    "        obs.append(ndlm.observation(states[t]))\n",
    "\n",
    "    return obs"
   ]
  },
  {
   "cell_type": "markdown",
   "id": "ec0681e3-bbd6-4530-a0a1-ad1ddd440eff",
   "metadata": {},
   "source": [
    "Generate a new dataset with anomalies at day `27`, `53`, `270` (just for testing)."
   ]
  },
  {
   "cell_type": "code",
   "execution_count": 8,
   "id": "b99c4ebe-24ba-4a8d-b93f-5f18e7506512",
   "metadata": {},
   "outputs": [],
   "source": [
    "obs = generate_anomalous_data(structure, 365, m0, C0, 2.5, [27, 53, 270], 3.0)"
   ]
  },
  {
   "cell_type": "markdown",
   "id": "c80976ae-8c88-4d21-aba2-738fc400498c",
   "metadata": {},
   "source": [
    "We will need to use observations as arrays often, so do it now."
   ]
  },
  {
   "cell_type": "code",
   "execution_count": 9,
   "id": "355f1d56-4686-4e5f-a490-237a24b9c2c4",
   "metadata": {},
   "outputs": [],
   "source": [
    "Y = np.array(obs[1:]).reshape(-1,1)"
   ]
  },
  {
   "cell_type": "code",
   "execution_count": 10,
   "id": "1a8612e6-d011-4bdb-91b7-be7a7915535e",
   "metadata": {},
   "outputs": [
    {
     "data": {
      "text/plain": [
       "Text(0, 0.5, 'Hits')"
      ]
     },
     "execution_count": 10,
     "metadata": {},
     "output_type": "execute_result"
    },
    {
     "data": {
      "image/png": "[encoded data removed]",
      "text/plain": [
       "<Figure size 432x288 with 1 Axes>"
      ]
     },
     "metadata": {
      "needs_background": "light"
     },
     "output_type": "display_data"
    }
   ],
   "source": [
    "import matplotlib.pyplot as plt\n",
    "\n",
    "plt.plot(Y[:60])\n",
    "plt.title(\"Daily hits\")\n",
    "plt.xlabel(\"Day\")\n",
    "plt.ylabel(\"Hits\")"
   ]
  },
  {
   "cell_type": "markdown",
   "id": "4ad3bcca-d112-4347-b30e-c0099df7d096",
   "metadata": {},
   "source": [
    "Convert into dataframe (just for plotting, really...)"
   ]
  },
  {
   "cell_type": "code",
   "execution_count": 11,
   "id": "f6d7f685-00b9-4533-815a-2da347e79737",
   "metadata": {},
   "outputs": [],
   "source": [
    "import pandas as pd"
   ]
  },
  {
   "cell_type": "code",
   "execution_count": 12,
   "id": "6d06ac32-33bb-4ba4-8ce9-6973b8f225e6",
   "metadata": {},
   "outputs": [
    {
     "data": {
      "text/html": [
       "<div>\n",
       "<style scoped>\n",
       "    .dataframe tbody tr th:only-of-type {\n",
       "        vertical-align: middle;\n",
       "    }\n",
       "\n",
       "    .dataframe tbody tr th {\n",
       "        vertical-align: top;\n",
       "    }\n",
       "\n",
       "    .dataframe thead th {\n",
       "        text-align: right;\n",
       "    }\n",
       "</style>\n",
       "<table border=\"1\" class=\"dataframe\">\n",
       "  <thead>\n",
       "    <tr style=\"text-align: right;\">\n",
       "      <th></th>\n",
       "      <th>y</th>\n",
       "    </tr>\n",
       "  </thead>\n",
       "  <tbody>\n",
       "    <tr>\n",
       "      <th>0</th>\n",
       "      <td>105.301872</td>\n",
       "    </tr>\n",
       "    <tr>\n",
       "      <th>1</th>\n",
       "      <td>98.575037</td>\n",
       "    </tr>\n",
       "    <tr>\n",
       "      <th>2</th>\n",
       "      <td>99.327438</td>\n",
       "    </tr>\n",
       "    <tr>\n",
       "      <th>3</th>\n",
       "      <td>102.514398</td>\n",
       "    </tr>\n",
       "    <tr>\n",
       "      <th>4</th>\n",
       "      <td>103.531128</td>\n",
       "    </tr>\n",
       "  </tbody>\n",
       "</table>\n",
       "</div>"
      ],
      "text/plain": [
       "            y\n",
       "0  105.301872\n",
       "1   98.575037\n",
       "2   99.327438\n",
       "3  102.514398\n",
       "4  103.531128"
      ]
     },
     "execution_count": 12,
     "metadata": {},
     "output_type": "execute_result"
    }
   ],
   "source": [
    "df = pd.DataFrame(Y, columns=[\"y\"])\n",
    "df.head()"
   ]
  },
  {
   "cell_type": "markdown",
   "id": "bd583e97-57ff-4798-a8be-73a2103019b1",
   "metadata": {},
   "source": [
    "# Outlier detection\n",
    "\n",
    "## (Local) outlier factor"
   ]
  },
  {
   "cell_type": "markdown",
   "id": "d3320f09-336c-4a16-8066-fad420d10295",
   "metadata": {},
   "source": [
    "Train the local outlier detector with the whole dataset[^1].\n",
    "\n",
    "[^1]: Again, just for training purposes."
   ]
  },
  {
   "cell_type": "code",
   "execution_count": 13,
   "id": "1b4a908d-cbe5-41b1-bb93-79c4b4ad83f7",
   "metadata": {},
   "outputs": [
    {
     "data": {
      "text/plain": [
       "LocalOutlierFactor(novelty=True)"
      ]
     },
     "execution_count": 13,
     "metadata": {},
     "output_type": "execute_result"
    }
   ],
   "source": [
    "from sklearn.neighbors import LocalOutlierFactor\n",
    "\n",
    "clf = LocalOutlierFactor(contamination='auto', novelty=True)\n",
    "clf.fit(Y)"
   ]
  },
  {
   "cell_type": "markdown",
   "id": "ead604c2-6d82-42ef-9ae9-06029c0e438a",
   "metadata": {},
   "source": [
    "Store the detected anomalies (if any) on the dataframe."
   ]
  },
  {
   "cell_type": "code",
   "execution_count": 14,
   "id": "22810d67-a19b-4d1a-827f-cf1a98015d71",
   "metadata": {},
   "outputs": [],
   "source": [
    "anomalies = clf.predict(Y)"
   ]
  },
  {
   "cell_type": "code",
   "execution_count": 15,
   "id": "77551ab8-92a3-4a55-b290-8b80e2b4a088",
   "metadata": {},
   "outputs": [],
   "source": [
    "df['anomaly'] = anomalies"
   ]
  },
  {
   "cell_type": "markdown",
   "id": "4dbf36f6-ab7b-4873-a876-cfc16cb938f5",
   "metadata": {},
   "source": [
    "Plot the data for the first 60 days, along with the anomalies (red)."
   ]
  },
  {
   "cell_type": "code",
   "execution_count": 16,
   "id": "464db210-ca85-47a5-9310-313bcf92f380",
   "metadata": {},
   "outputs": [
    {
     "data": {
      "text/plain": [
       "<matplotlib.legend.Legend at 0x12f856bb0>"
      ]
     },
     "execution_count": 16,
     "metadata": {},
     "output_type": "execute_result"
    },
    {
     "data": {
      "image/png": "[encoded data removed]",
      "text/plain": [
       "<Figure size 432x288 with 1 Axes>"
      ]
     },
     "metadata": {
      "needs_background": "light"
     },
     "output_type": "display_data"
    }
   ],
   "source": [
    "d = df.head(60)\n",
    "plt.plot(Y[:60])\n",
    "plt.scatter(x=range(60), y=d['y'], c=list(d['anomaly'].map({1: 'black', -1: 'red'})), s=20)\n",
    "plt.title(\"Daily hits\")\n",
    "plt.xlabel(\"Day\")\n",
    "plt.ylabel(\"Hits\")\n",
    "plt.legend(['Observation', 'Normal'])"
   ]
  },
  {
   "cell_type": "markdown",
   "id": "b32df0c1-04a7-448f-9058-ff0e7d315bdc",
   "metadata": {},
   "source": [
    "## n-$\\sigma$\n",
    "\n",
    "Using 3-$\\sigma$. Calculate standard deviation:"
   ]
  },
  {
   "cell_type": "code",
   "execution_count": 22,
   "id": "e9579286-926a-460d-a85c-ae53ef3d92ea",
   "metadata": {},
   "outputs": [
    {
     "data": {
      "text/plain": [
       "[188.9698468564886, 33.83342612693457]"
      ]
     },
     "execution_count": 22,
     "metadata": {},
     "output_type": "execute_result"
    }
   ],
   "source": [
    "bounds = [Y.mean() + 3 * Y.std(), Y.mean() - 3 * Y.std()]\n",
    "bounds"
   ]
  },
  {
   "cell_type": "markdown",
   "id": "7bfb1566-0aca-4fc9-ac0a-fff7618dcebe",
   "metadata": {},
   "source": [
    "Find outliers according to our criteria."
   ]
  },
  {
   "cell_type": "code",
   "execution_count": 25,
   "id": "8ed667aa-8fff-4c39-bafd-a733c480027b",
   "metadata": {},
   "outputs": [
    {
     "data": {
      "text/plain": [
       "<matplotlib.legend.Legend at 0x12faa46d0>"
      ]
     },
     "execution_count": 25,
     "metadata": {},
     "output_type": "execute_result"
    },
    {
     "data": {
      "image/png": "[encoded data removed]",
      "text/plain": [
       "<Figure size 432x288 with 1 Axes>"
      ]
     },
     "metadata": {
      "needs_background": "light"
     },
     "output_type": "display_data"
    }
   ],
   "source": [
    "colours = d['y'].transform(lambda x: 'black' if x > bounds[1] and x < bounds[0] else 'red')\n",
    "plt.plot(Y[:60])\n",
    "plt.scatter(x=range(60), y=d['y'], c=list(colours), s=20)\n",
    "plt.title(\"Daily hits\")\n",
    "plt.xlabel(\"Day\")\n",
    "plt.ylabel(\"Hits\")\n",
    "plt.legend(['Observation', 'Normal'])"
   ]
  },
  {
   "cell_type": "markdown",
   "id": "d70e245e-6032-4e81-9fd1-03edc447c456",
   "metadata": {},
   "source": [
    "# LSTM forecast\n",
    "\n",
    "Forecast the data using LSTM."
   ]
  },
  {
   "cell_type": "code",
   "execution_count": 26,
   "id": "1813881e-2a38-49d6-8c93-bfe94a7035e2",
   "metadata": {},
   "outputs": [],
   "source": [
    "from keras.models import Sequential\n",
    "from keras.layers import Dense\n",
    "from keras.layers import LSTM"
   ]
  },
  {
   "cell_type": "markdown",
   "id": "86b99223-1fdf-4a2a-8133-f9c301ed44fa",
   "metadata": {},
   "source": [
    "Offset the data (history size `1`, i.e. one step behind)."
   ]
  },
  {
   "cell_type": "code",
   "execution_count": 27,
   "id": "6ce4f7f8-2b39-43f8-bd53-967d4d65d5b8",
   "metadata": {},
   "outputs": [],
   "source": [
    "def create_offset(dataset, history=1):\n",
    "    x, y = [], []\n",
    "    for i in range(len(dataset)-history-1):\n",
    "        a = dataset[i:(i+history), 0]\n",
    "        x.append(a)\n",
    "        y.append(dataset[i + history, 0])\n",
    "    return np.array(x), np.array(y)"
   ]
  },
  {
   "cell_type": "markdown",
   "id": "2a98d2ca-45c1-40f3-8ab1-99fb59cd2faf",
   "metadata": {},
   "source": [
    "Normalise data for LSTM."
   ]
  },
  {
   "cell_type": "code",
   "execution_count": 28,
   "id": "1b574d39-4667-4562-8054-eca815a55a2e",
   "metadata": {},
   "outputs": [],
   "source": [
    "from sklearn.preprocessing import MinMaxScaler\n",
    "\n",
    "scaler = MinMaxScaler(feature_range=(0, 1))\n",
    "data = scaler.fit_transform(Y)"
   ]
  },
  {
   "cell_type": "markdown",
   "id": "d9e0cf95-7bd2-4a05-b340-53a9c96a78a0",
   "metadata": {},
   "source": [
    "Split into train and test datasets."
   ]
  },
  {
   "cell_type": "code",
   "execution_count": 29,
   "id": "781c672e-58dd-4d89-82eb-14a3863b3a32",
   "metadata": {},
   "outputs": [],
   "source": [
    "train_size = 250\n",
    "test_size = N - train_size\n",
    "train, test = data[:train_size,:], data[train_size:N,:]"
   ]
  },
  {
   "cell_type": "code",
   "execution_count": 30,
   "id": "6b1c6233-b157-47f7-ac4f-429990b8ec1d",
   "metadata": {},
   "outputs": [],
   "source": [
    "history = 1\n",
    "X_train, y_train = create_offset(train, history)\n",
    "X_test, y_test = create_offset(test, history)\n",
    "\n",
    "X_train = np.reshape(X_train, (X_train.shape[0], 1, X_train.shape[1]))\n",
    "X_test = np.reshape(X_test, (X_test.shape[0], 1, X_test.shape[1]))"
   ]
  },
  {
   "cell_type": "markdown",
   "id": "b8d2c0e4-0c58-48a7-a671-eddef424c06a",
   "metadata": {},
   "source": [
    "Fit the LSTM."
   ]
  },
  {
   "cell_type": "code",
   "execution_count": 31,
   "id": "f6e1720b-0f21-4748-b6e2-9bd1dde69b85",
   "metadata": {},
   "outputs": [
    {
     "name": "stderr",
     "output_type": "stream",
     "text": [
      "2021-11-23 22:45:22.951478: I tensorflow/core/platform/cpu_feature_guard.cc:151] This TensorFlow binary is optimized with oneAPI Deep Neural Network Library (oneDNN) to use the following CPU instructions in performance-critical operations:  AVX2 FMA\n",
      "To enable them in other operations, rebuild TensorFlow with the appropriate compiler flags.\n"
     ]
    },
    {
     "data": {
      "text/plain": [
       "<keras.callbacks.History at 0x1591266a0>"
      ]
     },
     "execution_count": 31,
     "metadata": {},
     "output_type": "execute_result"
    }
   ],
   "source": [
    "model = Sequential()\n",
    "model.add(LSTM(4, input_shape=(1, history)))\n",
    "model.add(Dense(1))\n",
    "model.compile(loss='mean_squared_error', optimizer='adam')\n",
    "model.fit(X_train, y_train, epochs=125, batch_size=2, verbose=0)"
   ]
  },
  {
   "cell_type": "markdown",
   "id": "da25e811-86bd-4003-b866-a27cd89b29db",
   "metadata": {},
   "source": [
    "Add predictions for plotting."
   ]
  },
  {
   "cell_type": "code",
   "execution_count": 32,
   "id": "39e628a3-5c50-4651-b49b-77bae842b084",
   "metadata": {},
   "outputs": [],
   "source": [
    "LSTM_pred = {}\n",
    "LSTM_pred[\"train\"] = model.predict(X_train)\n",
    "LSTM_pred[\"test\"] = model.predict(X_test)"
   ]
  },
  {
   "cell_type": "markdown",
   "id": "cb4929ed-5529-4947-86d6-2e13a95d8c4e",
   "metadata": {},
   "source": [
    "Un-normalise."
   ]
  },
  {
   "cell_type": "code",
   "execution_count": 33,
   "id": "be6172f2-4134-4114-b6b9-8f3f439aa408",
   "metadata": {},
   "outputs": [],
   "source": [
    "LSTM_pred[\"train\"] = scaler.inverse_transform(LSTM_pred[\"train\"])\n",
    "y_train = scaler.inverse_transform([y_train])\n",
    "LSTM_pred[\"test\"] = scaler.inverse_transform(LSTM_pred[\"test\"])\n",
    "y_test = scaler.inverse_transform([y_test])"
   ]
  },
  {
   "cell_type": "markdown",
   "id": "b5dad86f-71ce-480d-ba0c-adb7178ac4cd",
   "metadata": {},
   "source": [
    "Plot the time between 200th and 300th days."
   ]
  },
  {
   "cell_type": "code",
   "execution_count": 34,
   "id": "828e0ad8-880f-4c97-b7d1-af1f80f3a950",
   "metadata": {},
   "outputs": [
    {
     "data": {
      "image/png": "[encoded data removed]",
      "text/plain": [
       "<Figure size 432x288 with 1 Axes>"
      ]
     },
     "metadata": {
      "needs_background": "light"
     },
     "output_type": "display_data"
    }
   ],
   "source": [
    "pred_train = np.empty_like(data)\n",
    "pred_train[:, :] = np.nan\n",
    "cutoff = len(LSTM_pred[\"train\"])\n",
    "pred_train[history:(cutoff+history),:] = LSTM_pred[\"train\"]\n",
    "\n",
    "pred_test = np.empty_like(data)\n",
    "pred_test[:, :] = np.nan\n",
    "pred_test[(cutoff+(history*2)+1):(N-2),:] = LSTM_pred[\"test\"]\n",
    "\n",
    "start = 200\n",
    "end = 300\n",
    "w = range(start, end)\n",
    "plt.plot(w, scaler.inverse_transform(data)[start:end])\n",
    "plt.plot(w, pred_train[start:end])\n",
    "plt.plot(w, pred_test[start:end])\n",
    "plt.axvline(x=250, c=\"red\")\n",
    "plt.title(\"Daily hits\")\n",
    "plt.xlabel(\"Day\")\n",
    "plt.ylabel(\"Hits\")\n",
    "plt.legend(['True value', 'Train (predicted)', \"Predicted\", \"End train\"])\n",
    "plt.show()"
   ]
  },
  {
   "cell_type": "markdown",
   "id": "c9be8f6f-684c-46f1-8789-b52d7a17c1a3",
   "metadata": {},
   "source": [
    "Timepoint `t=268` (non-anomalous in our data)"
   ]
  },
  {
   "cell_type": "code",
   "execution_count": 35,
   "id": "db113a69-4d63-4794-a31f-ca41cfe3a0c1",
   "metadata": {},
   "outputs": [
    {
     "data": {
      "text/plain": [
       "array([132.46136799])"
      ]
     },
     "execution_count": 35,
     "metadata": {},
     "output_type": "execute_result"
    }
   ],
   "source": [
    "t=268\n",
    "Y[t]"
   ]
  },
  {
   "cell_type": "markdown",
   "id": "5775a93b-0a4c-4918-9c8d-74aac09a1a1f",
   "metadata": {
    "tags": []
   },
   "source": [
    "Should be non-anomalous (`p=1`)"
   ]
  },
  {
   "cell_type": "code",
   "execution_count": 36,
   "id": "c767fc63-5164-4091-9fe3-810b7f36ea29",
   "metadata": {
    "tags": []
   },
   "outputs": [
    {
     "data": {
      "text/plain": [
       "array([1])"
      ]
     },
     "execution_count": 36,
     "metadata": {},
     "output_type": "execute_result"
    }
   ],
   "source": [
    "clf.predict(np.array(Y[t]).reshape(-1, 1))"
   ]
  },
  {
   "cell_type": "markdown",
   "id": "bcf4969d-1214-4fa2-9cfe-f55bc0e98621",
   "metadata": {},
   "source": [
    "Predicted observation:"
   ]
  },
  {
   "cell_type": "code",
   "execution_count": 37,
   "id": "142e56e8-d198-4abb-a406-e96379bca374",
   "metadata": {},
   "outputs": [
    {
     "name": "stdout",
     "output_type": "stream",
     "text": [
      "Observed value = 132 hits, predicted = 113 hits\n"
     ]
    }
   ],
   "source": [
    "prediction = model.predict(scaler.transform(np.array(Y[t-1]).reshape(-1, 1)))\n",
    "print(f\"Observed value = {round(Y[t][0])} hits, predicted = {round(scaler.inverse_transform(prediction)[0][0])} hits\")"
   ]
  },
  {
   "cell_type": "markdown",
   "id": "1116ecbd-7a60-4839-a252-db44bbef2924",
   "metadata": {},
   "source": [
    "Now, timepoint `t=269` (**anomalous** in our data)"
   ]
  },
  {
   "cell_type": "code",
   "execution_count": 38,
   "id": "b35f7347-2151-4fc7-886b-4f163e6a9241",
   "metadata": {},
   "outputs": [
    {
     "data": {
      "text/plain": [
       "array([380.98464193])"
      ]
     },
     "execution_count": 38,
     "metadata": {},
     "output_type": "execute_result"
    }
   ],
   "source": [
    "t=269\n",
    "Y[t]"
   ]
  },
  {
   "cell_type": "markdown",
   "id": "cba3e557-71cc-494f-92ed-0955d6dd6e57",
   "metadata": {},
   "source": [
    "Should be **anomalous** (`p=-1`)"
   ]
  },
  {
   "cell_type": "code",
   "execution_count": 39,
   "id": "a63d4386-77fd-4495-baba-cc8d2cd01284",
   "metadata": {},
   "outputs": [
    {
     "data": {
      "text/plain": [
       "array([-1])"
      ]
     },
     "execution_count": 39,
     "metadata": {},
     "output_type": "execute_result"
    }
   ],
   "source": [
    "clf.predict(np.array(Y[t]).reshape(-1, 1))"
   ]
  },
  {
   "cell_type": "markdown",
   "id": "3ca8dbce-5b82-447c-a87c-2d0e9789028d",
   "metadata": {},
   "source": [
    "Predicted observation:"
   ]
  },
  {
   "cell_type": "code",
   "execution_count": 40,
   "id": "5719eece-3527-4fd6-9097-ed36741c867e",
   "metadata": {},
   "outputs": [
    {
     "name": "stdout",
     "output_type": "stream",
     "text": [
      "Observed value = 381 hits, predicted = 118 hits\n"
     ]
    }
   ],
   "source": [
    "prediction = model.predict(scaler.transform(np.array(Y[t-1]).reshape(-1, 1)))\n",
    "print(f\"Observed value = {round(Y[t][0])} hits, predicted = {round(scaler.inverse_transform(prediction)[0][0])} hits\")"
   ]
  }
 ],
 "metadata": {
  "kernelspec": {
   "display_name": "shi-models",
   "language": "python",
   "name": "shi-models"
  },
  "language_info": {
   "codemirror_mode": {
    "name": "ipython",
    "version": 3
   },
   "file_extension": ".py",
   "mimetype": "text/x-python",
   "name": "python",
   "nbconvert_exporter": "python",
   "pygments_lexer": "ipython3",
   "version": "3.9.7"
  }
 },
 "nbformat": 4,
 "nbformat_minor": 5
}
