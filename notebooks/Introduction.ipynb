{
 "cells": [
  {
   "cell_type": "markdown",
   "id": "c9cbdff9-5551-4ede-834a-dc7f143628b8",
   "metadata": {},
   "source": [
    "# Introduction"
   ]
  },
  {
   "cell_type": "markdown",
   "id": "413b879f-49f6-4686-bb88-cbc7f5f99f44",
   "metadata": {},
   "source": [
    "The metrics to be considered are:\n",
    "\n",
    "- CPU usage\n",
    "- Memory\n",
    "- Disk reads (bytes/second)\n",
    "- Network read (/second)\n",
    "- Network write (/second)\n",
    "- Disk write (byte/second)"
   ]
  },
  {
   "cell_type": "markdown",
   "id": "1615aa9d-2dd7-41d5-988e-477e278ddb07",
   "metadata": {},
   "source": [
    "# Data simulation\n",
    "\n",
    "Simulating data using a simple _random walk_:"
   ]
  },
  {
   "cell_type": "code",
   "execution_count": 2,
   "id": "cb4268c8-d08b-4fda-9be3-d42f2ac8c960",
   "metadata": {},
   "outputs": [],
   "source": [
    "import random\n",
    "import numpy as np\n",
    "from numpy.random import multivariate_normal as mvn\n",
    "from typing import List\n",
    "\n",
    "random.seed(23)\n",
    "\n",
    "def mvn_random_walk(n: int, \n",
    "                    start: np.ndarray, \n",
    "                    cov: List[List[float]],\n",
    "                    min_allowed:List[float],\n",
    "                    max_allowed:List[float],\n",
    "                    anomaly_scale=0.001,\n",
    "                    anomaly_rate=0.001,\n",
    "                    positive=False,\n",
    "                    sticky=False) -> List[np.ndarray]:\n",
    "    \"\"\"Multivariate Gaussian random walk\"\"\"\n",
    "    x = start\n",
    "    data = np.array(x)\n",
    "    for t in range(n):\n",
    "        x = mvn(x.flatten(), cov, 1)\n",
    "\n",
    "        if random.random() < anomaly_rate:\n",
    "            anomaly = x * [-1,1][random.randrange(2)] * anomaly_scale\n",
    "            _x = np.clip(x + anomaly, min_allowed, max_allowed)\n",
    "            data = np.vstack([data, _x])\n",
    "            if sticky:\n",
    "                x += _x\n",
    "        else:\n",
    "            x = np.clip(x, min_allowed, max_allowed)\n",
    "            data = np.vstack([data, x])\n",
    "    return data"
   ]
  },
  {
   "cell_type": "markdown",
   "id": "586ef75f-1213-4f64-83de-5a1e7b7a225d",
   "metadata": {},
   "source": [
    "## Univariate"
   ]
  },
  {
   "cell_type": "markdown",
   "id": "bfc176a7-3051-4fa3-b1e3-87e5caa20a06",
   "metadata": {},
   "source": [
    "For memory, we will use a mean value of `100Mb`.\n",
    "The minimum memory is `0Mb` and maximum `16000Mb`."
   ]
  },
  {
   "cell_type": "code",
   "execution_count": 3,
   "id": "6e93de7d-ff0d-4677-9e66-073a1a350ad8",
   "metadata": {},
   "outputs": [],
   "source": [
    "mem_mean = 100.0\n",
    "mem_v = 2.0\n",
    "mem_min = 0\n",
    "mem_max = 16000.0"
   ]
  },
  {
   "cell_type": "markdown",
   "id": "78e90823-0662-4ad0-89f8-b3b988881ed1",
   "metadata": {},
   "source": [
    "The `sticky` flag allows the anomaly to be persistent, for instance:"
   ]
  },
  {
   "cell_type": "code",
   "execution_count": 4,
   "id": "3d8a7849-fdb5-4c2c-8ee2-d60b753d71fe",
   "metadata": {},
   "outputs": [],
   "source": [
    "data = mvn_random_walk(n=1000,\n",
    "                       start=np.array([mem_mean]),\n",
    "                       cov=[[mem_v]],\n",
    "                       min_allowed=[mem_min],\n",
    "                       max_allowed=[mem_max],\n",
    "                       anomaly_scale=0.5,\n",
    "                       anomaly_rate=0.01,\n",
    "                       positive=True,\n",
    "                       sticky=True)"
   ]
  },
  {
   "cell_type": "code",
   "execution_count": 5,
   "id": "9e884064-4ed4-4916-808d-657b43773d03",
   "metadata": {},
   "outputs": [
    {
     "data": {
      "text/plain": [
       "[<matplotlib.lines.Line2D at 0x133b42670>]"
      ]
     },
     "execution_count": 5,
     "metadata": {},
     "output_type": "execute_result"
    },
    {
     "data": {
      "image/png": "[encoded data removed]",
      "text/plain": [
       "<Figure size 432x288 with 1 Axes>"
      ]
     },
     "metadata": {
      "needs_background": "light"
     },
     "output_type": "display_data"
    }
   ],
   "source": [
    "import matplotlib.pyplot as plt\n",
    "plt.plot(data[:,0])"
   ]
  },
  {
   "cell_type": "markdown",
   "id": "65a18dcc-53c1-4c73-99a1-f570803625f3",
   "metadata": {},
   "source": [
    "Otherwise, the anomaly will be temporary. For instance:"
   ]
  },
  {
   "cell_type": "code",
   "execution_count": 6,
   "id": "0e2f02d1-4104-4630-9842-a4dfbf4055a3",
   "metadata": {},
   "outputs": [],
   "source": [
    "data = mvn_random_walk(n=1000,\n",
    "                       start=np.array([mem_mean]),\n",
    "                       cov=[[mem_v]],\n",
    "                       min_allowed=[mem_min],\n",
    "                       max_allowed=[mem_max],\n",
    "                       anomaly_scale=1.5,\n",
    "                       anomaly_rate=0.01,\n",
    "                       positive=True,\n",
    "                       sticky=False)"
   ]
  },
  {
   "cell_type": "code",
   "execution_count": 7,
   "id": "1b19b275-ce77-42d7-9eda-b0ba4185fe55",
   "metadata": {},
   "outputs": [
    {
     "data": {
      "text/plain": [
       "[<matplotlib.lines.Line2D at 0x133c4d760>]"
      ]
     },
     "execution_count": 7,
     "metadata": {},
     "output_type": "execute_result"
    },
    {
     "data": {
      "image/png": "[encoded data removed]",
      "text/plain": [
       "<Figure size 432x288 with 1 Axes>"
      ]
     },
     "metadata": {
      "needs_background": "light"
     },
     "output_type": "display_data"
    }
   ],
   "source": [
    "import matplotlib.pyplot as plt\n",
    "plt.plot(data[:,0])"
   ]
  },
  {
   "cell_type": "markdown",
   "id": "d3fa1493-97d5-4658-935d-0a0374b08ae8",
   "metadata": {},
   "source": [
    "## Multivariate"
   ]
  },
  {
   "cell_type": "markdown",
   "id": "0386c0be-7f26-4680-ab23-dcb7dc173efb",
   "metadata": {},
   "source": [
    "Add another component to the data, namely a `CPU` usage (between `0%` and `100%`) and a `disk_reads` (between `0` and `5000`)."
   ]
  },
  {
   "cell_type": "code",
   "execution_count": 8,
   "id": "3a8495f7-8b43-47d4-8374-b7c1f14bc8c1",
   "metadata": {},
   "outputs": [],
   "source": [
    "# CPU data parameters\n",
    "cpu_mean = 1.0\n",
    "cpu_v = 5.0\n",
    "cpu_min = 0.0\n",
    "cpu_max = 100.0\n",
    "\n",
    "# Disk reads data parameters\n",
    "dr_mean = 10.0\n",
    "dr_v = 20.0\n",
    "dr_min = 0.0\n",
    "dr_max = 5000.0"
   ]
  },
  {
   "cell_type": "code",
   "execution_count": 9,
   "id": "77ec9b24-00b6-42ce-8637-31655242b02c",
   "metadata": {},
   "outputs": [],
   "source": [
    "data = mvn_random_walk(n=1000,\n",
    "                       start=np.array([mem_mean, cpu_mean, dr_mean]),\n",
    "                       cov=[[mem_v, 0, 0], [0, cpu_v, 0], [0, 0, dr_v]],\n",
    "                       min_allowed=[mem_min, cpu_min, dr_min],\n",
    "                       max_allowed=[mem_max, cpu_max, dr_max],\n",
    "                       anomaly_scale=1.5,\n",
    "                       anomaly_rate=0.01,\n",
    "                       positive=True,\n",
    "                       sticky=True)"
   ]
  },
  {
   "cell_type": "code",
   "execution_count": 10,
   "id": "da8d6a80-a499-4e62-bffd-095b63e83ed7",
   "metadata": {},
   "outputs": [
    {
     "data": {
      "text/plain": [
       "<matplotlib.legend.Legend at 0x133bafa90>"
      ]
     },
     "execution_count": 10,
     "metadata": {},
     "output_type": "execute_result"
    },
    {
     "data": {
      "image/png": "[encoded data removed]",
      "text/plain": [
       "<Figure size 432x288 with 1 Axes>"
      ]
     },
     "metadata": {
      "needs_background": "light"
     },
     "output_type": "display_data"
    }
   ],
   "source": [
    "plt.plot(data[:,0]/np.linalg.norm(data[:,0]))\n",
    "plt.plot(data[:,1]/np.linalg.norm(data[:,1]))\n",
    "plt.plot(data[:,2]/np.linalg.norm(data[:,2]))\n",
    "plt.legend(['Memory', 'CPU', 'Disk reads'], loc='upper left')"
   ]
  },
  {
   "cell_type": "markdown",
   "id": "de211488-9635-4ab9-b7dd-24028915c882",
   "metadata": {},
   "source": [
    "But we have no correlation between the variables. Let's add a correlation between `Memory` and `CPU`."
   ]
  },
  {
   "cell_type": "code",
   "execution_count": 11,
   "id": "e9ec49dd-1b43-42ff-9bbe-113489a58a29",
   "metadata": {},
   "outputs": [],
   "source": [
    "data = mvn_random_walk(n=1000,\n",
    "                       start=np.array([mem_mean, cpu_mean, dr_mean]),\n",
    "                       cov=[[mem_v, 2.0, 0], [2.0, cpu_v, 0], [0, 0, dr_v]],\n",
    "                       min_allowed=[mem_min, cpu_min, dr_min],\n",
    "                       max_allowed=[mem_max, cpu_max, dr_max],\n",
    "                       anomaly_scale=1.5,\n",
    "                       anomaly_rate=0.01,\n",
    "                       positive=True,\n",
    "                       sticky=True)"
   ]
  },
  {
   "cell_type": "code",
   "execution_count": 12,
   "id": "af710a33-ab11-4ae5-a803-0762d839ead7",
   "metadata": {},
   "outputs": [
    {
     "data": {
      "text/plain": [
       "<matplotlib.legend.Legend at 0x133cff4c0>"
      ]
     },
     "execution_count": 12,
     "metadata": {},
     "output_type": "execute_result"
    },
    {
     "data": {
      "image/png": "[encoded data removed]",
      "text/plain": [
       "<Figure size 432x288 with 1 Axes>"
      ]
     },
     "metadata": {
      "needs_background": "light"
     },
     "output_type": "display_data"
    }
   ],
   "source": [
    "plt.plot(data[:,0]/np.linalg.norm(data[:,0]))\n",
    "plt.plot(data[:,1]/np.linalg.norm(data[:,1]))\n",
    "plt.plot(data[:,2]/np.linalg.norm(data[:,2]))\n",
    "plt.legend(['Memory', 'CPU', 'Disk reads'], loc='upper left')"
   ]
  },
  {
   "cell_type": "markdown",
   "id": "1449faf8-4be7-4c75-b37b-b14a0d0d63f3",
   "metadata": {},
   "source": [
    "# CUSUM"
   ]
  },
  {
   "cell_type": "code",
   "execution_count": 13,
   "id": "60d8df6f-c64d-4790-8327-55a8e4c6ef2b",
   "metadata": {},
   "outputs": [],
   "source": [
    "import numpy as np\n",
    "def CUSUM(data, cold=100, threshold_t=5):\n",
    "    S_high = 0\n",
    "    S_low = 0\n",
    "    n = len(data)\n",
    "    chart = []\n",
    "    \n",
    "    for i in range(n):\n",
    "        if i < cold:\n",
    "            chart.append((False, S_high, S_low,))\n",
    "            continue\n",
    "\n",
    "        mean, std = np.mean(data[:i]), np.std(data[:i])\n",
    "        Z_o = data[i] - mean - std\n",
    "        S_high_ = max(0, S_high + Z_o)\n",
    "        S_low = max(0, S_low - Z_o)\n",
    "        d = threshold_t * std\n",
    "        if S_high_ > d:\n",
    "            chart.append((True, S_high_, S_low))\n",
    "        else:\n",
    "            S_high = S_high_\n",
    "            chart.append((False, S_high, S_low))\n",
    "    return chart"
   ]
  },
  {
   "cell_type": "code",
   "execution_count": 14,
   "id": "3220b836-20e7-4546-9cf4-4306ef3a1fe1",
   "metadata": {},
   "outputs": [],
   "source": [
    "memory_cusum = CUSUM(data[:,0])\n",
    "cpu_cusum = CUSUM(data[:,1])\n",
    "dr_cusum = CUSUM(data[:,2])"
   ]
  },
  {
   "cell_type": "code",
   "execution_count": 15,
   "id": "1ee12f35-00dd-446d-a70b-5e739f43127d",
   "metadata": {},
   "outputs": [
    {
     "data": {
      "text/plain": [
       "<matplotlib.lines.Line2D at 0x133cfffd0>"
      ]
     },
     "execution_count": 15,
     "metadata": {},
     "output_type": "execute_result"
    },
    {
     "data": {
      "image/png": "[encoded data removed]",
      "text/plain": [
       "<Figure size 432x288 with 1 Axes>"
      ]
     },
     "metadata": {
      "needs_background": "light"
     },
     "output_type": "display_data"
    }
   ],
   "source": [
    "plt.plot([S[1] for S in memory_cusum])\n",
    "plt.plot([S[1] for S in cpu_cusum])\n",
    "plt.plot([S[1] for S in dr_cusum])\n",
    "plt.legend(['Memory', 'CPU', 'Disk reads'], loc='upper left')\n",
    "plt.axhline(y = 5, color = 'r', linestyle = '-')"
   ]
  },
  {
   "cell_type": "markdown",
   "id": "a9b05636-b228-440f-8db2-ef8c7f2abbb1",
   "metadata": {},
   "source": [
    "# Train anomaly model"
   ]
  },
  {
   "cell_type": "code",
   "execution_count": 25,
   "id": "a69cbe2e-a60e-4e83-a346-9e4dfb867328",
   "metadata": {},
   "outputs": [
    {
     "data": {
      "text/html": [
       "<div>\n",
       "<style scoped>\n",
       "    .dataframe tbody tr th:only-of-type {\n",
       "        vertical-align: middle;\n",
       "    }\n",
       "\n",
       "    .dataframe tbody tr th {\n",
       "        vertical-align: top;\n",
       "    }\n",
       "\n",
       "    .dataframe thead th {\n",
       "        text-align: right;\n",
       "    }\n",
       "</style>\n",
       "<table border=\"1\" class=\"dataframe\">\n",
       "  <thead>\n",
       "    <tr style=\"text-align: right;\">\n",
       "      <th></th>\n",
       "      <th>memory</th>\n",
       "      <th>cpu</th>\n",
       "      <th>dr</th>\n",
       "    </tr>\n",
       "  </thead>\n",
       "  <tbody>\n",
       "    <tr>\n",
       "      <th>0</th>\n",
       "      <td>100.000000</td>\n",
       "      <td>1.000000</td>\n",
       "      <td>10.000000</td>\n",
       "    </tr>\n",
       "    <tr>\n",
       "      <th>1</th>\n",
       "      <td>98.691736</td>\n",
       "      <td>0.000000</td>\n",
       "      <td>8.647039</td>\n",
       "    </tr>\n",
       "    <tr>\n",
       "      <th>2</th>\n",
       "      <td>100.555756</td>\n",
       "      <td>2.529534</td>\n",
       "      <td>12.916203</td>\n",
       "    </tr>\n",
       "    <tr>\n",
       "      <th>3</th>\n",
       "      <td>100.231124</td>\n",
       "      <td>4.695998</td>\n",
       "      <td>10.347713</td>\n",
       "    </tr>\n",
       "    <tr>\n",
       "      <th>4</th>\n",
       "      <td>100.308298</td>\n",
       "      <td>2.302335</td>\n",
       "      <td>10.979661</td>\n",
       "    </tr>\n",
       "  </tbody>\n",
       "</table>\n",
       "</div>"
      ],
      "text/plain": [
       "       memory       cpu         dr\n",
       "0  100.000000  1.000000  10.000000\n",
       "1   98.691736  0.000000   8.647039\n",
       "2  100.555756  2.529534  12.916203\n",
       "3  100.231124  4.695998  10.347713\n",
       "4  100.308298  2.302335  10.979661"
      ]
     },
     "execution_count": 25,
     "metadata": {},
     "output_type": "execute_result"
    }
   ],
   "source": [
    "import pandas as pd\n",
    "\n",
    "df = pd.DataFrame()\n",
    "df['memory'] = data[:,0]\n",
    "df['cpu'] = data[:,1]\n",
    "df['dr'] = data[:,2]\n",
    "df.head()"
   ]
  },
  {
   "cell_type": "code",
   "execution_count": 28,
   "id": "819ae7f6-512f-4c33-9990-40508ccf4d15",
   "metadata": {},
   "outputs": [
    {
     "data": {
      "text/html": [
       "<div>\n",
       "<style scoped>\n",
       "    .dataframe tbody tr th:only-of-type {\n",
       "        vertical-align: middle;\n",
       "    }\n",
       "\n",
       "    .dataframe tbody tr th {\n",
       "        vertical-align: top;\n",
       "    }\n",
       "\n",
       "    .dataframe thead th {\n",
       "        text-align: right;\n",
       "    }\n",
       "</style>\n",
       "<table border=\"1\" class=\"dataframe\">\n",
       "  <thead>\n",
       "    <tr style=\"text-align: right;\">\n",
       "      <th></th>\n",
       "      <th>memory</th>\n",
       "      <th>cpu</th>\n",
       "      <th>dr</th>\n",
       "      <th>memory_anomaly</th>\n",
       "      <th>cpu_anomaly</th>\n",
       "      <th>dr_anomaly</th>\n",
       "    </tr>\n",
       "  </thead>\n",
       "  <tbody>\n",
       "    <tr>\n",
       "      <th>0</th>\n",
       "      <td>100.000000</td>\n",
       "      <td>1.000000</td>\n",
       "      <td>10.000000</td>\n",
       "      <td>0</td>\n",
       "      <td>0</td>\n",
       "      <td>0</td>\n",
       "    </tr>\n",
       "    <tr>\n",
       "      <th>1</th>\n",
       "      <td>98.691736</td>\n",
       "      <td>0.000000</td>\n",
       "      <td>8.647039</td>\n",
       "      <td>0</td>\n",
       "      <td>0</td>\n",
       "      <td>0</td>\n",
       "    </tr>\n",
       "    <tr>\n",
       "      <th>2</th>\n",
       "      <td>100.555756</td>\n",
       "      <td>2.529534</td>\n",
       "      <td>12.916203</td>\n",
       "      <td>0</td>\n",
       "      <td>0</td>\n",
       "      <td>0</td>\n",
       "    </tr>\n",
       "    <tr>\n",
       "      <th>3</th>\n",
       "      <td>100.231124</td>\n",
       "      <td>4.695998</td>\n",
       "      <td>10.347713</td>\n",
       "      <td>0</td>\n",
       "      <td>0</td>\n",
       "      <td>0</td>\n",
       "    </tr>\n",
       "    <tr>\n",
       "      <th>4</th>\n",
       "      <td>100.308298</td>\n",
       "      <td>2.302335</td>\n",
       "      <td>10.979661</td>\n",
       "      <td>0</td>\n",
       "      <td>0</td>\n",
       "      <td>0</td>\n",
       "    </tr>\n",
       "  </tbody>\n",
       "</table>\n",
       "</div>"
      ],
      "text/plain": [
       "       memory       cpu         dr  memory_anomaly  cpu_anomaly  dr_anomaly\n",
       "0  100.000000  1.000000  10.000000               0            0           0\n",
       "1   98.691736  0.000000   8.647039               0            0           0\n",
       "2  100.555756  2.529534  12.916203               0            0           0\n",
       "3  100.231124  4.695998  10.347713               0            0           0\n",
       "4  100.308298  2.302335  10.979661               0            0           0"
      ]
     },
     "execution_count": 28,
     "metadata": {},
     "output_type": "execute_result"
    }
   ],
   "source": [
    "df['memory_anomaly'] = [1 if S[0] else 0 for S in memory_cusum]\n",
    "df['cpu_anomaly'] = [1 if S[0] else 0 for S in cpu_cusum]\n",
    "df['dr_anomaly'] = [1 if S[0] else 0 for S in dr_cusum]\n",
    "df.head()"
   ]
  },
  {
   "cell_type": "code",
   "execution_count": 16,
   "id": "6c64c9ef-96ab-4db6-9eb3-3048046db388",
   "metadata": {},
   "outputs": [],
   "source": [
    "from sklearn.ensemble import RandomForestClassifier\n",
    "\n",
    "clf = RandomForestClassifier(max_depth=2, random_state=23)"
   ]
  },
  {
   "cell_type": "code",
   "execution_count": 32,
   "id": "0d4d9316-57f4-4e8d-912d-97889899c016",
   "metadata": {},
   "outputs": [
    {
     "data": {
      "text/html": [
       "<div>\n",
       "<style scoped>\n",
       "    .dataframe tbody tr th:only-of-type {\n",
       "        vertical-align: middle;\n",
       "    }\n",
       "\n",
       "    .dataframe tbody tr th {\n",
       "        vertical-align: top;\n",
       "    }\n",
       "\n",
       "    .dataframe thead th {\n",
       "        text-align: right;\n",
       "    }\n",
       "</style>\n",
       "<table border=\"1\" class=\"dataframe\">\n",
       "  <thead>\n",
       "    <tr style=\"text-align: right;\">\n",
       "      <th></th>\n",
       "      <th>memory</th>\n",
       "      <th>cpu</th>\n",
       "      <th>dr</th>\n",
       "    </tr>\n",
       "  </thead>\n",
       "  <tbody>\n",
       "    <tr>\n",
       "      <th>0</th>\n",
       "      <td>100.000000</td>\n",
       "      <td>1.000000</td>\n",
       "      <td>10.000000</td>\n",
       "    </tr>\n",
       "    <tr>\n",
       "      <th>1</th>\n",
       "      <td>98.691736</td>\n",
       "      <td>0.000000</td>\n",
       "      <td>8.647039</td>\n",
       "    </tr>\n",
       "    <tr>\n",
       "      <th>2</th>\n",
       "      <td>100.555756</td>\n",
       "      <td>2.529534</td>\n",
       "      <td>12.916203</td>\n",
       "    </tr>\n",
       "    <tr>\n",
       "      <th>3</th>\n",
       "      <td>100.231124</td>\n",
       "      <td>4.695998</td>\n",
       "      <td>10.347713</td>\n",
       "    </tr>\n",
       "    <tr>\n",
       "      <th>4</th>\n",
       "      <td>100.308298</td>\n",
       "      <td>2.302335</td>\n",
       "      <td>10.979661</td>\n",
       "    </tr>\n",
       "  </tbody>\n",
       "</table>\n",
       "</div>"
      ],
      "text/plain": [
       "       memory       cpu         dr\n",
       "0  100.000000  1.000000  10.000000\n",
       "1   98.691736  0.000000   8.647039\n",
       "2  100.555756  2.529534  12.916203\n",
       "3  100.231124  4.695998  10.347713\n",
       "4  100.308298  2.302335  10.979661"
      ]
     },
     "execution_count": 32,
     "metadata": {},
     "output_type": "execute_result"
    }
   ],
   "source": [
    "X = df[['memory', 'cpu', 'dr']]\n",
    "X.head()"
   ]
  },
  {
   "cell_type": "code",
   "execution_count": 31,
   "id": "18c3dc4b-fc32-4068-8b6e-9cd17b9cf508",
   "metadata": {},
   "outputs": [
    {
     "data": {
      "text/html": [
       "<div>\n",
       "<style scoped>\n",
       "    .dataframe tbody tr th:only-of-type {\n",
       "        vertical-align: middle;\n",
       "    }\n",
       "\n",
       "    .dataframe tbody tr th {\n",
       "        vertical-align: top;\n",
       "    }\n",
       "\n",
       "    .dataframe thead th {\n",
       "        text-align: right;\n",
       "    }\n",
       "</style>\n",
       "<table border=\"1\" class=\"dataframe\">\n",
       "  <thead>\n",
       "    <tr style=\"text-align: right;\">\n",
       "      <th></th>\n",
       "      <th>memory_anomaly</th>\n",
       "      <th>cpu_anomaly</th>\n",
       "      <th>dr_anomaly</th>\n",
       "    </tr>\n",
       "  </thead>\n",
       "  <tbody>\n",
       "    <tr>\n",
       "      <th>0</th>\n",
       "      <td>0</td>\n",
       "      <td>0</td>\n",
       "      <td>0</td>\n",
       "    </tr>\n",
       "    <tr>\n",
       "      <th>1</th>\n",
       "      <td>0</td>\n",
       "      <td>0</td>\n",
       "      <td>0</td>\n",
       "    </tr>\n",
       "    <tr>\n",
       "      <th>2</th>\n",
       "      <td>0</td>\n",
       "      <td>0</td>\n",
       "      <td>0</td>\n",
       "    </tr>\n",
       "    <tr>\n",
       "      <th>3</th>\n",
       "      <td>0</td>\n",
       "      <td>0</td>\n",
       "      <td>0</td>\n",
       "    </tr>\n",
       "    <tr>\n",
       "      <th>4</th>\n",
       "      <td>0</td>\n",
       "      <td>0</td>\n",
       "      <td>0</td>\n",
       "    </tr>\n",
       "  </tbody>\n",
       "</table>\n",
       "</div>"
      ],
      "text/plain": [
       "   memory_anomaly  cpu_anomaly  dr_anomaly\n",
       "0               0            0           0\n",
       "1               0            0           0\n",
       "2               0            0           0\n",
       "3               0            0           0\n",
       "4               0            0           0"
      ]
     },
     "execution_count": 31,
     "metadata": {},
     "output_type": "execute_result"
    }
   ],
   "source": [
    "y = df[['memory_anomaly', 'cpu_anomaly', 'dr_anomaly']]\n",
    "y.head()"
   ]
  },
  {
   "cell_type": "code",
   "execution_count": 33,
   "id": "c892b839-0838-4032-b9f0-7a76d87eed4c",
   "metadata": {},
   "outputs": [
    {
     "data": {
      "text/plain": [
       "RandomForestClassifier(max_depth=2, random_state=23)"
      ]
     },
     "execution_count": 33,
     "metadata": {},
     "output_type": "execute_result"
    }
   ],
   "source": [
    "clf.fit(X, y)"
   ]
  },
  {
   "cell_type": "markdown",
   "id": "fcf9aa26-6d2f-4d5d-9264-a4502a13bb7c",
   "metadata": {},
   "source": [
    "Generate a new dataset"
   ]
  },
  {
   "cell_type": "code",
   "execution_count": 34,
   "id": "1eaa3a50-357f-4124-9c4c-75f060e12ab3",
   "metadata": {},
   "outputs": [],
   "source": [
    "data_test = mvn_random_walk(n=1000,\n",
    "                       start=np.array([mem_mean, cpu_mean, dr_mean]),\n",
    "                       cov=[[mem_v, 2.0, 0], [2.0, cpu_v, 0], [0, 0, dr_v]],\n",
    "                       min_allowed=[mem_min, cpu_min, dr_min],\n",
    "                       max_allowed=[mem_max, cpu_max, dr_max],\n",
    "                       anomaly_scale=1.5,\n",
    "                       anomaly_rate=0.01,\n",
    "                       positive=True,\n",
    "                       sticky=True)"
   ]
  },
  {
   "cell_type": "code",
   "execution_count": 35,
   "id": "594cd7c9-93c7-471a-b0f7-35bcde6fec81",
   "metadata": {},
   "outputs": [
    {
     "data": {
      "text/plain": [
       "array([[1.00000000e+02, 1.00000000e+00, 1.00000000e+01],\n",
       "       [1.01776418e+02, 1.43155816e+00, 7.73331761e+00],\n",
       "       [9.98680099e+01, 3.53636003e-01, 1.05915828e+01],\n",
       "       ...,\n",
       "       [1.59967295e+04, 8.91110911e+01, 4.94197460e+03],\n",
       "       [1.59994039e+04, 8.93503480e+01, 4.94176642e+03],\n",
       "       [1.60000000e+04, 9.19518434e+01, 4.94409606e+03]])"
      ]
     },
     "execution_count": 35,
     "metadata": {},
     "output_type": "execute_result"
    }
   ],
   "source": []
  },
  {
   "cell_type": "code",
   "execution_count": 37,
   "id": "795a0d92-1716-49a9-a590-43a5bcf494a0",
   "metadata": {},
   "outputs": [
    {
     "data": {
      "text/plain": [
       "<matplotlib.legend.Legend at 0x1371ef250>"
      ]
     },
     "execution_count": 37,
     "metadata": {},
     "output_type": "execute_result"
    },
    {
     "data": {
      "image/png": "[encoded data removed]",
      "text/plain": [
       "<Figure size 432x288 with 1 Axes>"
      ]
     },
     "metadata": {
      "needs_background": "light"
     },
     "output_type": "display_data"
    }
   ],
   "source": [
    "plt.plot(data_test[:,0]/np.linalg.norm(data_test[:,0]))\n",
    "plt.plot(data_test[:,1]/np.linalg.norm(data_test[:,1]))\n",
    "plt.plot(data_test[:,2]/np.linalg.norm(data_test[:,2]))\n",
    "plt.legend(['Memory', 'CPU', 'Disk reads'], loc='upper left')"
   ]
  },
  {
   "cell_type": "code",
   "execution_count": 40,
   "id": "c4789744-0ac8-4ce8-8647-ca08d757a2db",
   "metadata": {},
   "outputs": [
    {
     "name": "stderr",
     "output_type": "stream",
     "text": [
      "/Users/rui/.virtualenvs/shi-models/lib/python3.9/site-packages/sklearn/base.py:445: UserWarning: X does not have valid feature names, but RandomForestClassifier was fitted with feature names\n",
      "  warnings.warn(\n"
     ]
    }
   ],
   "source": [
    "predictions = clf.predict(data_test)"
   ]
  },
  {
   "cell_type": "code",
   "execution_count": 41,
   "id": "e1591f8c-c146-4e5d-a5e9-dfa7faa30615",
   "metadata": {},
   "outputs": [
    {
     "data": {
      "text/html": [
       "<div>\n",
       "<style scoped>\n",
       "    .dataframe tbody tr th:only-of-type {\n",
       "        vertical-align: middle;\n",
       "    }\n",
       "\n",
       "    .dataframe tbody tr th {\n",
       "        vertical-align: top;\n",
       "    }\n",
       "\n",
       "    .dataframe thead th {\n",
       "        text-align: right;\n",
       "    }\n",
       "</style>\n",
       "<table border=\"1\" class=\"dataframe\">\n",
       "  <thead>\n",
       "    <tr style=\"text-align: right;\">\n",
       "      <th></th>\n",
       "      <th>memory</th>\n",
       "      <th>cpu</th>\n",
       "      <th>dr</th>\n",
       "    </tr>\n",
       "  </thead>\n",
       "  <tbody>\n",
       "    <tr>\n",
       "      <th>0</th>\n",
       "      <td>100.000000</td>\n",
       "      <td>1.000000</td>\n",
       "      <td>10.000000</td>\n",
       "    </tr>\n",
       "    <tr>\n",
       "      <th>1</th>\n",
       "      <td>101.776418</td>\n",
       "      <td>1.431558</td>\n",
       "      <td>7.733318</td>\n",
       "    </tr>\n",
       "    <tr>\n",
       "      <th>2</th>\n",
       "      <td>99.868010</td>\n",
       "      <td>0.353636</td>\n",
       "      <td>10.591583</td>\n",
       "    </tr>\n",
       "    <tr>\n",
       "      <th>3</th>\n",
       "      <td>98.438118</td>\n",
       "      <td>0.000000</td>\n",
       "      <td>11.063285</td>\n",
       "    </tr>\n",
       "    <tr>\n",
       "      <th>4</th>\n",
       "      <td>95.270876</td>\n",
       "      <td>0.000000</td>\n",
       "      <td>5.454813</td>\n",
       "    </tr>\n",
       "  </tbody>\n",
       "</table>\n",
       "</div>"
      ],
      "text/plain": [
       "       memory       cpu         dr\n",
       "0  100.000000  1.000000  10.000000\n",
       "1  101.776418  1.431558   7.733318\n",
       "2   99.868010  0.353636  10.591583\n",
       "3   98.438118  0.000000  11.063285\n",
       "4   95.270876  0.000000   5.454813"
      ]
     },
     "execution_count": 41,
     "metadata": {},
     "output_type": "execute_result"
    }
   ],
   "source": [
    "df_test = pd.DataFrame()\n",
    "df_test['memory'] = data_test[:,0]\n",
    "df_test['cpu'] = data_test[:,1]\n",
    "df_test['dr'] = data_test[:,2]\n",
    "df_test.head()"
   ]
  },
  {
   "cell_type": "code",
   "execution_count": 42,
   "id": "0f91161a-c96b-43c8-9206-12fb57943caa",
   "metadata": {},
   "outputs": [
    {
     "data": {
      "text/html": [
       "<div>\n",
       "<style scoped>\n",
       "    .dataframe tbody tr th:only-of-type {\n",
       "        vertical-align: middle;\n",
       "    }\n",
       "\n",
       "    .dataframe tbody tr th {\n",
       "        vertical-align: top;\n",
       "    }\n",
       "\n",
       "    .dataframe thead th {\n",
       "        text-align: right;\n",
       "    }\n",
       "</style>\n",
       "<table border=\"1\" class=\"dataframe\">\n",
       "  <thead>\n",
       "    <tr style=\"text-align: right;\">\n",
       "      <th></th>\n",
       "      <th>memory</th>\n",
       "      <th>cpu</th>\n",
       "      <th>dr</th>\n",
       "      <th>memory_anomaly</th>\n",
       "      <th>cpu_anomaly</th>\n",
       "      <th>dr_anomaly</th>\n",
       "    </tr>\n",
       "  </thead>\n",
       "  <tbody>\n",
       "    <tr>\n",
       "      <th>0</th>\n",
       "      <td>100.000000</td>\n",
       "      <td>1.000000</td>\n",
       "      <td>10.000000</td>\n",
       "      <td>0</td>\n",
       "      <td>0</td>\n",
       "      <td>0</td>\n",
       "    </tr>\n",
       "    <tr>\n",
       "      <th>1</th>\n",
       "      <td>101.776418</td>\n",
       "      <td>1.431558</td>\n",
       "      <td>7.733318</td>\n",
       "      <td>0</td>\n",
       "      <td>0</td>\n",
       "      <td>0</td>\n",
       "    </tr>\n",
       "    <tr>\n",
       "      <th>2</th>\n",
       "      <td>99.868010</td>\n",
       "      <td>0.353636</td>\n",
       "      <td>10.591583</td>\n",
       "      <td>0</td>\n",
       "      <td>0</td>\n",
       "      <td>0</td>\n",
       "    </tr>\n",
       "    <tr>\n",
       "      <th>3</th>\n",
       "      <td>98.438118</td>\n",
       "      <td>0.000000</td>\n",
       "      <td>11.063285</td>\n",
       "      <td>0</td>\n",
       "      <td>0</td>\n",
       "      <td>0</td>\n",
       "    </tr>\n",
       "    <tr>\n",
       "      <th>4</th>\n",
       "      <td>95.270876</td>\n",
       "      <td>0.000000</td>\n",
       "      <td>5.454813</td>\n",
       "      <td>0</td>\n",
       "      <td>0</td>\n",
       "      <td>0</td>\n",
       "    </tr>\n",
       "  </tbody>\n",
       "</table>\n",
       "</div>"
      ],
      "text/plain": [
       "       memory       cpu         dr  memory_anomaly  cpu_anomaly  dr_anomaly\n",
       "0  100.000000  1.000000  10.000000               0            0           0\n",
       "1  101.776418  1.431558   7.733318               0            0           0\n",
       "2   99.868010  0.353636  10.591583               0            0           0\n",
       "3   98.438118  0.000000  11.063285               0            0           0\n",
       "4   95.270876  0.000000   5.454813               0            0           0"
      ]
     },
     "execution_count": 42,
     "metadata": {},
     "output_type": "execute_result"
    }
   ],
   "source": [
    "df_test['memory_anomaly'] = predictions[:,0]\n",
    "df_test['cpu_anomaly'] = predictions[:,1]\n",
    "df_test['dr_anomaly'] = predictions[:,2]\n",
    "df_test.head()"
   ]
  },
  {
   "cell_type": "code",
   "execution_count": 52,
   "id": "5a504b6a-3acf-4cb4-81de-5736d66b4930",
   "metadata": {},
   "outputs": [
    {
     "data": {
      "text/plain": [
       "<matplotlib.collections.PathCollection at 0x137c25160>"
      ]
     },
     "execution_count": 52,
     "metadata": {},
     "output_type": "execute_result"
    },
    {
     "data": {
      "image/png": "[encoded data removed]",
      "text/plain": [
       "<Figure size 432x288 with 1 Axes>"
      ]
     },
     "metadata": {
      "needs_background": "light"
     },
     "output_type": "display_data"
    }
   ],
   "source": [
    "plt.scatter(x=range(len(df['memory'])), y=df['memory'], c=list(df['memory_anomaly'].map({0: 'black', 1: 'red'})), s=1)"
   ]
  },
  {
   "cell_type": "code",
   "execution_count": 53,
   "id": "a7fb2e59-36a8-45e8-9c19-21c427bc7d47",
   "metadata": {},
   "outputs": [
    {
     "data": {
      "text/plain": [
       "<matplotlib.collections.PathCollection at 0x137c7fca0>"
      ]
     },
     "execution_count": 53,
     "metadata": {},
     "output_type": "execute_result"
    },
    {
     "data": {
      "image/png": "[encoded data removed]",
      "text/plain": [
       "<Figure size 432x288 with 1 Axes>"
      ]
     },
     "metadata": {
      "needs_background": "light"
     },
     "output_type": "display_data"
    }
   ],
   "source": [
    "plt.scatter(x=range(len(df['cpu'])), y=df['cpu'], c=list(df['cpu_anomaly'].map({0: 'black', 1: 'red'})), s=1)"
   ]
  },
  {
   "cell_type": "code",
   "execution_count": 54,
   "id": "1a7bb4ca-dfdd-47e2-bf6f-bc44904494b4",
   "metadata": {},
   "outputs": [
    {
     "data": {
      "text/plain": [
       "<matplotlib.collections.PathCollection at 0x137c08340>"
      ]
     },
     "execution_count": 54,
     "metadata": {},
     "output_type": "execute_result"
    },
    {
     "data": {
      "image/png": "[encoded data removed]",
      "text/plain": [
       "<Figure size 432x288 with 1 Axes>"
      ]
     },
     "metadata": {
      "needs_background": "light"
     },
     "output_type": "display_data"
    }
   ],
   "source": [
    "plt.scatter(x=range(len(df['dr'])), y=df['dr'], c=list(df['dr_anomaly'].map({0: 'black', 1: 'red'})), s=1)"
   ]
  },
  {
   "cell_type": "code",
   "execution_count": null,
   "id": "be01b4f3-6487-4312-88bb-1303322720e6",
   "metadata": {},
   "outputs": [],
   "source": []
  }
 ],
 "metadata": {
  "kernelspec": {
   "display_name": "shi-models",
   "language": "python",
   "name": "shi-models"
  },
  "language_info": {
   "codemirror_mode": {
    "name": "ipython",
    "version": 3
   },
   "file_extension": ".py",
   "mimetype": "text/x-python",
   "name": "python",
   "nbconvert_exporter": "python",
   "pygments_lexer": "ipython3",
   "version": "3.9.7"
  }
 },
 "nbformat": 4,
 "nbformat_minor": 5
}
