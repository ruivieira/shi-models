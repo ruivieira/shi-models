{
 "cells": [
  {
   "cell_type": "markdown",
   "id": "c9cbdff9-5551-4ede-834a-dc7f143628b8",
   "metadata": {},
   "source": [
    "# Introduction"
   ]
  },
  {
   "cell_type": "markdown",
   "id": "413b879f-49f6-4686-bb88-cbc7f5f99f44",
   "metadata": {},
   "source": [
    "The metrics to be considered are:\n",
    "\n",
    "- CPU usage\n",
    "- Memory\n",
    "- Disk reads (bytes/second)\n",
    "- Network read (/second)\n",
    "- Network write (/second)\n",
    "- Disk write (byte/second)"
   ]
  },
  {
   "cell_type": "markdown",
   "id": "1615aa9d-2dd7-41d5-988e-477e278ddb07",
   "metadata": {},
   "source": [
    "# Data simulation\n",
    "\n",
    "Simulating data using a simple _random walk_:"
   ]
  },
  {
   "cell_type": "code",
   "execution_count": 33,
   "id": "cb4268c8-d08b-4fda-9be3-d42f2ac8c960",
   "metadata": {},
   "outputs": [],
   "source": [
    "import random\n",
    "import numpy as np\n",
    "from numpy.random import multivariate_normal as mvn\n",
    "from typing import List\n",
    "\n",
    "SEED = 23\n",
    "random.seed(SEED)\n",
    "np.random.seed(SEED)\n",
    "\n",
    "def mvn_random_walk(n: int, \n",
    "                    start: np.ndarray, \n",
    "                    cov: List[List[float]],\n",
    "                    min_allowed:List[float],\n",
    "                    max_allowed:List[float],\n",
    "                    anomaly_scale=0.001,\n",
    "                    anomaly_rate=0.001,\n",
    "                    sticky=False) -> List[np.ndarray]:\n",
    "    \"\"\"Multivariate Gaussian random walk\"\"\"\n",
    "    x = start\n",
    "    data = np.array(x)\n",
    "    for t in range(n):\n",
    "        x = mvn(x.flatten(), cov, 1)\n",
    "\n",
    "        if random.random() < anomaly_rate:\n",
    "            anomaly = x * [-1,1][random.randrange(2)] * anomaly_scale\n",
    "            _x = np.clip(x + anomaly, min_allowed, max_allowed)\n",
    "            data = np.vstack([data, _x])\n",
    "            if sticky:\n",
    "                x += _x\n",
    "        else:\n",
    "            x = np.clip(x, min_allowed, max_allowed)\n",
    "            data = np.vstack([data, x])\n",
    "    return data"
   ]
  },
  {
   "cell_type": "markdown",
   "id": "586ef75f-1213-4f64-83de-5a1e7b7a225d",
   "metadata": {},
   "source": [
    "## Univariate"
   ]
  },
  {
   "cell_type": "markdown",
   "id": "bfc176a7-3051-4fa3-b1e3-87e5caa20a06",
   "metadata": {},
   "source": [
    "For memory, we will use a mean value of `100Mb`.\n",
    "The minimum memory is `0Mb` and maximum `16000Mb`."
   ]
  },
  {
   "cell_type": "code",
   "execution_count": 34,
   "id": "6e93de7d-ff0d-4677-9e66-073a1a350ad8",
   "metadata": {},
   "outputs": [],
   "source": [
    "mem_mean = 100.0\n",
    "mem_v = 2.0\n",
    "mem_min = 0\n",
    "mem_max = 16000.0"
   ]
  },
  {
   "cell_type": "markdown",
   "id": "78e90823-0662-4ad0-89f8-b3b988881ed1",
   "metadata": {},
   "source": [
    "The `sticky` flag allows the anomaly to be persistent, for instance:"
   ]
  },
  {
   "cell_type": "code",
   "execution_count": 35,
   "id": "41a9d871-f968-4a46-90df-b1032a844120",
   "metadata": {},
   "outputs": [],
   "source": [
    "# Number of samples\n",
    "N = 5000"
   ]
  },
  {
   "cell_type": "code",
   "execution_count": 36,
   "id": "3d8a7849-fdb5-4c2c-8ee2-d60b753d71fe",
   "metadata": {},
   "outputs": [],
   "source": [
    "data = mvn_random_walk(n=N,\n",
    "                       start=np.array([mem_mean]),\n",
    "                       cov=[[mem_v]],\n",
    "                       min_allowed=[mem_min],\n",
    "                       max_allowed=[mem_max],\n",
    "                       anomaly_scale=0.1,\n",
    "                       anomaly_rate=0.01,\n",
    "                       sticky=True)"
   ]
  },
  {
   "cell_type": "code",
   "execution_count": 37,
   "id": "9e884064-4ed4-4916-808d-657b43773d03",
   "metadata": {},
   "outputs": [
    {
     "data": {
      "text/plain": [
       "[<matplotlib.lines.Line2D at 0x13c0ee070>]"
      ]
     },
     "execution_count": 37,
     "metadata": {},
     "output_type": "execute_result"
    },
    {
     "data": {
      "image/png": "[encoded data removed]",
      "text/plain": [
       "<Figure size 432x288 with 1 Axes>"
      ]
     },
     "metadata": {
      "needs_background": "light"
     },
     "output_type": "display_data"
    }
   ],
   "source": [
    "import matplotlib.pyplot as plt\n",
    "plt.plot(data[:,0])"
   ]
  },
  {
   "cell_type": "markdown",
   "id": "65a18dcc-53c1-4c73-99a1-f570803625f3",
   "metadata": {},
   "source": [
    "Otherwise, the anomaly will be temporary. For instance:"
   ]
  },
  {
   "cell_type": "code",
   "execution_count": 38,
   "id": "0e2f02d1-4104-4630-9842-a4dfbf4055a3",
   "metadata": {},
   "outputs": [],
   "source": [
    "data = mvn_random_walk(n=N,\n",
    "                       start=np.array([mem_mean]),\n",
    "                       cov=[[mem_v]],\n",
    "                       min_allowed=[mem_min],\n",
    "                       max_allowed=[mem_max],\n",
    "                       anomaly_scale=1.5,\n",
    "                       anomaly_rate=0.01,\n",
    "                       sticky=False)"
   ]
  },
  {
   "cell_type": "code",
   "execution_count": 39,
   "id": "1b19b275-ce77-42d7-9eda-b0ba4185fe55",
   "metadata": {},
   "outputs": [
    {
     "data": {
      "text/plain": [
       "[<matplotlib.lines.Line2D at 0x13c157490>]"
      ]
     },
     "execution_count": 39,
     "metadata": {},
     "output_type": "execute_result"
    },
    {
     "data": {
      "image/png": "[encoded data removed]",
      "text/plain": [
       "<Figure size 432x288 with 1 Axes>"
      ]
     },
     "metadata": {
      "needs_background": "light"
     },
     "output_type": "display_data"
    }
   ],
   "source": [
    "import matplotlib.pyplot as plt\n",
    "plt.plot(data[:,0])"
   ]
  },
  {
   "cell_type": "markdown",
   "id": "d3fa1493-97d5-4658-935d-0a0374b08ae8",
   "metadata": {},
   "source": [
    "## Multivariate"
   ]
  },
  {
   "cell_type": "markdown",
   "id": "0386c0be-7f26-4680-ab23-dcb7dc173efb",
   "metadata": {},
   "source": [
    "Add another component to the data, namely a `CPU` usage (between `0%` and `100%`) and a `disk_reads` (between `0` and `5000`)."
   ]
  },
  {
   "cell_type": "code",
   "execution_count": 40,
   "id": "3a8495f7-8b43-47d4-8374-b7c1f14bc8c1",
   "metadata": {},
   "outputs": [],
   "source": [
    "# CPU data parameters\n",
    "cpu_mean = 1.0\n",
    "cpu_v = 5.0\n",
    "cpu_min = 0.0\n",
    "cpu_max = 100.0\n",
    "\n",
    "# Disk reads data parameters\n",
    "dr_mean = 10.0\n",
    "dr_v = 20.0\n",
    "dr_min = 0.0\n",
    "dr_max = 5000.0"
   ]
  },
  {
   "cell_type": "code",
   "execution_count": 46,
   "id": "77ec9b24-00b6-42ce-8637-31655242b02c",
   "metadata": {},
   "outputs": [],
   "source": [
    "data = mvn_random_walk(n=N,\n",
    "                       start=np.array([mem_mean, cpu_mean, dr_mean]),\n",
    "                       cov=[[mem_v, 0, 0], [0, cpu_v, 0], [0, 0, dr_v]],\n",
    "                       min_allowed=[mem_min, cpu_min, dr_min],\n",
    "                       max_allowed=[mem_max, cpu_max, dr_max],\n",
    "                       anomaly_scale=0.2,\n",
    "                       anomaly_rate=0.01,\n",
    "                       sticky=True)"
   ]
  },
  {
   "cell_type": "code",
   "execution_count": 47,
   "id": "74cca10b-a81d-4300-b7e6-5327edfe8954",
   "metadata": {},
   "outputs": [],
   "source": [
    "def normalise(array):\n",
    "    \"\"\"Simple method to normalise an array\"\"\"\n",
    "    return array/np.linalg.norm(array)"
   ]
  },
  {
   "cell_type": "code",
   "execution_count": 48,
   "id": "da8d6a80-a499-4e62-bffd-095b63e83ed7",
   "metadata": {},
   "outputs": [
    {
     "data": {
      "text/plain": [
       "<matplotlib.legend.Legend at 0x13c1250d0>"
      ]
     },
     "execution_count": 48,
     "metadata": {},
     "output_type": "execute_result"
    },
    {
     "data": {
      "image/png": "[encoded data removed]",
      "text/plain": [
       "<Figure size 432x288 with 1 Axes>"
      ]
     },
     "metadata": {
      "needs_background": "light"
     },
     "output_type": "display_data"
    }
   ],
   "source": [
    "for i in [0, 1, 2]:\n",
    "    plt.plot(normalise(data[:,i]))\n",
    "\n",
    "plt.legend(['Memory', 'CPU', 'Disk reads'], loc='upper left')"
   ]
  },
  {
   "cell_type": "markdown",
   "id": "de211488-9635-4ab9-b7dd-24028915c882",
   "metadata": {},
   "source": [
    "But we have no correlation between the variables. Let's add a correlation between `Memory` and `CPU`."
   ]
  },
  {
   "cell_type": "code",
   "execution_count": 49,
   "id": "e9ec49dd-1b43-42ff-9bbe-113489a58a29",
   "metadata": {},
   "outputs": [],
   "source": [
    "data = mvn_random_walk(n=N,\n",
    "                       start=np.array([mem_mean, cpu_mean, dr_mean]),\n",
    "                       cov=[[mem_v, 2.0, 0], [2.0, cpu_v, 0], [0, 0, dr_v]],\n",
    "                       min_allowed=[mem_min, cpu_min, dr_min],\n",
    "                       max_allowed=[mem_max, cpu_max, dr_max],\n",
    "                       anomaly_scale=0.2,\n",
    "                       anomaly_rate=0.01,\n",
    "                       sticky=True)"
   ]
  },
  {
   "cell_type": "code",
   "execution_count": 50,
   "id": "af710a33-ab11-4ae5-a803-0762d839ead7",
   "metadata": {},
   "outputs": [
    {
     "data": {
      "text/plain": [
       "<matplotlib.legend.Legend at 0x13c2eb730>"
      ]
     },
     "execution_count": 50,
     "metadata": {},
     "output_type": "execute_result"
    },
    {
     "data": {
      "image/png": "[encoded data removed]",
      "text/plain": [
       "<Figure size 432x288 with 1 Axes>"
      ]
     },
     "metadata": {
      "needs_background": "light"
     },
     "output_type": "display_data"
    }
   ],
   "source": [
    "for i in [0, 1, 2]:\n",
    "    plt.plot(normalise(data[:,i]))\n",
    "\n",
    "plt.legend(['Memory', 'CPU', 'Disk reads'], loc='upper left')"
   ]
  },
  {
   "cell_type": "markdown",
   "id": "1449faf8-4be7-4c75-b37b-b14a0d0d63f3",
   "metadata": {},
   "source": [
    "# CUSUM"
   ]
  },
  {
   "cell_type": "markdown",
   "id": "b24c3d72-c700-4661-87e7-8a31e094c38e",
   "metadata": {},
   "source": [
    "The purpose of CUSUM is to detect abrupt changes (not extreme values)."
   ]
  },
  {
   "cell_type": "code",
   "execution_count": 51,
   "id": "60d8df6f-c64d-4790-8327-55a8e4c6ef2b",
   "metadata": {},
   "outputs": [],
   "source": [
    "import numpy as np\n",
    "def CUSUM(data, cold=100, threshold_t=5):\n",
    "    S_high = 0\n",
    "    S_low = 0\n",
    "    n = len(data)\n",
    "    chart = []\n",
    "    \n",
    "    for i in range(n):\n",
    "        if i < cold:\n",
    "            chart.append((False, S_high, S_low,))\n",
    "            continue\n",
    "\n",
    "        mean, std = np.mean(data[:i]), np.std(data[:i])\n",
    "        Z_o = data[i] - mean - std\n",
    "        S_high_ = max(0, S_high + Z_o)\n",
    "        S_low = max(0, S_low - Z_o)\n",
    "        d = threshold_t * std\n",
    "        if S_high_ > d:\n",
    "            chart.append((True, S_high_, S_low))\n",
    "        else:\n",
    "            S_high = S_high_\n",
    "            chart.append((False, S_high, S_low))\n",
    "    return chart"
   ]
  },
  {
   "cell_type": "code",
   "execution_count": 52,
   "id": "3220b836-20e7-4546-9cf4-4306ef3a1fe1",
   "metadata": {},
   "outputs": [],
   "source": [
    "memory_cusum = CUSUM(data[:,0])\n",
    "cpu_cusum = CUSUM(data[:,1])\n",
    "dr_cusum = CUSUM(data[:,2])"
   ]
  },
  {
   "cell_type": "code",
   "execution_count": 53,
   "id": "1ee12f35-00dd-446d-a70b-5e739f43127d",
   "metadata": {},
   "outputs": [
    {
     "data": {
      "text/plain": [
       "<matplotlib.lines.Line2D at 0x127d567c0>"
      ]
     },
     "execution_count": 53,
     "metadata": {},
     "output_type": "execute_result"
    },
    {
     "data": {
      "image/png": "[encoded data removed]",
      "text/plain": [
       "<Figure size 432x288 with 1 Axes>"
      ]
     },
     "metadata": {
      "needs_background": "light"
     },
     "output_type": "display_data"
    }
   ],
   "source": [
    "plt.plot([S[1] for S in memory_cusum])\n",
    "plt.plot([S[1] for S in cpu_cusum])\n",
    "plt.plot([S[1] for S in dr_cusum])\n",
    "plt.legend(['Memory', 'CPU', 'Disk reads'], loc='upper left')\n",
    "plt.axhline(y = 5, color = 'r', linestyle = '-')"
   ]
  },
  {
   "cell_type": "markdown",
   "id": "a9b05636-b228-440f-8db2-ef8c7f2abbb1",
   "metadata": {},
   "source": [
    "# Train anomaly model"
   ]
  },
  {
   "cell_type": "code",
   "execution_count": 54,
   "id": "a69cbe2e-a60e-4e83-a346-9e4dfb867328",
   "metadata": {},
   "outputs": [
    {
     "data": {
      "text/html": [
       "<div>\n",
       "<style scoped>\n",
       "    .dataframe tbody tr th:only-of-type {\n",
       "        vertical-align: middle;\n",
       "    }\n",
       "\n",
       "    .dataframe tbody tr th {\n",
       "        vertical-align: top;\n",
       "    }\n",
       "\n",
       "    .dataframe thead th {\n",
       "        text-align: right;\n",
       "    }\n",
       "</style>\n",
       "<table border=\"1\" class=\"dataframe\">\n",
       "  <thead>\n",
       "    <tr style=\"text-align: right;\">\n",
       "      <th></th>\n",
       "      <th>memory</th>\n",
       "      <th>cpu</th>\n",
       "      <th>dr</th>\n",
       "    </tr>\n",
       "  </thead>\n",
       "  <tbody>\n",
       "    <tr>\n",
       "      <th>0</th>\n",
       "      <td>100.000000</td>\n",
       "      <td>1.000000</td>\n",
       "      <td>10.000000</td>\n",
       "    </tr>\n",
       "    <tr>\n",
       "      <th>1</th>\n",
       "      <td>100.733338</td>\n",
       "      <td>0.814967</td>\n",
       "      <td>5.861317</td>\n",
       "    </tr>\n",
       "    <tr>\n",
       "      <th>2</th>\n",
       "      <td>102.566066</td>\n",
       "      <td>2.101375</td>\n",
       "      <td>4.749033</td>\n",
       "    </tr>\n",
       "    <tr>\n",
       "      <th>3</th>\n",
       "      <td>104.015417</td>\n",
       "      <td>0.957507</td>\n",
       "      <td>4.251487</td>\n",
       "    </tr>\n",
       "    <tr>\n",
       "      <th>4</th>\n",
       "      <td>102.582218</td>\n",
       "      <td>0.000000</td>\n",
       "      <td>1.908604</td>\n",
       "    </tr>\n",
       "  </tbody>\n",
       "</table>\n",
       "</div>"
      ],
      "text/plain": [
       "       memory       cpu         dr\n",
       "0  100.000000  1.000000  10.000000\n",
       "1  100.733338  0.814967   5.861317\n",
       "2  102.566066  2.101375   4.749033\n",
       "3  104.015417  0.957507   4.251487\n",
       "4  102.582218  0.000000   1.908604"
      ]
     },
     "execution_count": 54,
     "metadata": {},
     "output_type": "execute_result"
    }
   ],
   "source": [
    "import pandas as pd\n",
    "\n",
    "df = pd.DataFrame()\n",
    "df['memory'] = data[:,0]\n",
    "df['cpu'] = data[:,1]\n",
    "df['dr'] = data[:,2]\n",
    "df.head()"
   ]
  },
  {
   "cell_type": "code",
   "execution_count": 55,
   "id": "819ae7f6-512f-4c33-9990-40508ccf4d15",
   "metadata": {},
   "outputs": [
    {
     "data": {
      "text/html": [
       "<div>\n",
       "<style scoped>\n",
       "    .dataframe tbody tr th:only-of-type {\n",
       "        vertical-align: middle;\n",
       "    }\n",
       "\n",
       "    .dataframe tbody tr th {\n",
       "        vertical-align: top;\n",
       "    }\n",
       "\n",
       "    .dataframe thead th {\n",
       "        text-align: right;\n",
       "    }\n",
       "</style>\n",
       "<table border=\"1\" class=\"dataframe\">\n",
       "  <thead>\n",
       "    <tr style=\"text-align: right;\">\n",
       "      <th></th>\n",
       "      <th>memory</th>\n",
       "      <th>cpu</th>\n",
       "      <th>dr</th>\n",
       "      <th>memory_anomaly</th>\n",
       "      <th>cpu_anomaly</th>\n",
       "      <th>dr_anomaly</th>\n",
       "    </tr>\n",
       "  </thead>\n",
       "  <tbody>\n",
       "    <tr>\n",
       "      <th>0</th>\n",
       "      <td>100.000000</td>\n",
       "      <td>1.000000</td>\n",
       "      <td>10.000000</td>\n",
       "      <td>0</td>\n",
       "      <td>0</td>\n",
       "      <td>0</td>\n",
       "    </tr>\n",
       "    <tr>\n",
       "      <th>1</th>\n",
       "      <td>100.733338</td>\n",
       "      <td>0.814967</td>\n",
       "      <td>5.861317</td>\n",
       "      <td>0</td>\n",
       "      <td>0</td>\n",
       "      <td>0</td>\n",
       "    </tr>\n",
       "    <tr>\n",
       "      <th>2</th>\n",
       "      <td>102.566066</td>\n",
       "      <td>2.101375</td>\n",
       "      <td>4.749033</td>\n",
       "      <td>0</td>\n",
       "      <td>0</td>\n",
       "      <td>0</td>\n",
       "    </tr>\n",
       "    <tr>\n",
       "      <th>3</th>\n",
       "      <td>104.015417</td>\n",
       "      <td>0.957507</td>\n",
       "      <td>4.251487</td>\n",
       "      <td>0</td>\n",
       "      <td>0</td>\n",
       "      <td>0</td>\n",
       "    </tr>\n",
       "    <tr>\n",
       "      <th>4</th>\n",
       "      <td>102.582218</td>\n",
       "      <td>0.000000</td>\n",
       "      <td>1.908604</td>\n",
       "      <td>0</td>\n",
       "      <td>0</td>\n",
       "      <td>0</td>\n",
       "    </tr>\n",
       "  </tbody>\n",
       "</table>\n",
       "</div>"
      ],
      "text/plain": [
       "       memory       cpu         dr  memory_anomaly  cpu_anomaly  dr_anomaly\n",
       "0  100.000000  1.000000  10.000000               0            0           0\n",
       "1  100.733338  0.814967   5.861317               0            0           0\n",
       "2  102.566066  2.101375   4.749033               0            0           0\n",
       "3  104.015417  0.957507   4.251487               0            0           0\n",
       "4  102.582218  0.000000   1.908604               0            0           0"
      ]
     },
     "execution_count": 55,
     "metadata": {},
     "output_type": "execute_result"
    }
   ],
   "source": [
    "df['memory_anomaly'] = [1 if S[0] else 0 for S in memory_cusum]\n",
    "df['cpu_anomaly'] = [1 if S[0] else 0 for S in cpu_cusum]\n",
    "df['dr_anomaly'] = [1 if S[0] else 0 for S in dr_cusum]\n",
    "df.head()"
   ]
  },
  {
   "cell_type": "code",
   "execution_count": 56,
   "id": "6c64c9ef-96ab-4db6-9eb3-3048046db388",
   "metadata": {},
   "outputs": [],
   "source": [
    "from sklearn.ensemble import RandomForestClassifier\n",
    "\n",
    "clf = RandomForestClassifier(max_depth=2, random_state=23)"
   ]
  },
  {
   "cell_type": "code",
   "execution_count": 57,
   "id": "0d4d9316-57f4-4e8d-912d-97889899c016",
   "metadata": {},
   "outputs": [
    {
     "data": {
      "text/html": [
       "<div>\n",
       "<style scoped>\n",
       "    .dataframe tbody tr th:only-of-type {\n",
       "        vertical-align: middle;\n",
       "    }\n",
       "\n",
       "    .dataframe tbody tr th {\n",
       "        vertical-align: top;\n",
       "    }\n",
       "\n",
       "    .dataframe thead th {\n",
       "        text-align: right;\n",
       "    }\n",
       "</style>\n",
       "<table border=\"1\" class=\"dataframe\">\n",
       "  <thead>\n",
       "    <tr style=\"text-align: right;\">\n",
       "      <th></th>\n",
       "      <th>memory</th>\n",
       "      <th>cpu</th>\n",
       "      <th>dr</th>\n",
       "    </tr>\n",
       "  </thead>\n",
       "  <tbody>\n",
       "    <tr>\n",
       "      <th>0</th>\n",
       "      <td>100.000000</td>\n",
       "      <td>1.000000</td>\n",
       "      <td>10.000000</td>\n",
       "    </tr>\n",
       "    <tr>\n",
       "      <th>1</th>\n",
       "      <td>100.733338</td>\n",
       "      <td>0.814967</td>\n",
       "      <td>5.861317</td>\n",
       "    </tr>\n",
       "    <tr>\n",
       "      <th>2</th>\n",
       "      <td>102.566066</td>\n",
       "      <td>2.101375</td>\n",
       "      <td>4.749033</td>\n",
       "    </tr>\n",
       "    <tr>\n",
       "      <th>3</th>\n",
       "      <td>104.015417</td>\n",
       "      <td>0.957507</td>\n",
       "      <td>4.251487</td>\n",
       "    </tr>\n",
       "    <tr>\n",
       "      <th>4</th>\n",
       "      <td>102.582218</td>\n",
       "      <td>0.000000</td>\n",
       "      <td>1.908604</td>\n",
       "    </tr>\n",
       "  </tbody>\n",
       "</table>\n",
       "</div>"
      ],
      "text/plain": [
       "       memory       cpu         dr\n",
       "0  100.000000  1.000000  10.000000\n",
       "1  100.733338  0.814967   5.861317\n",
       "2  102.566066  2.101375   4.749033\n",
       "3  104.015417  0.957507   4.251487\n",
       "4  102.582218  0.000000   1.908604"
      ]
     },
     "execution_count": 57,
     "metadata": {},
     "output_type": "execute_result"
    }
   ],
   "source": [
    "X = df[['memory', 'cpu', 'dr']]\n",
    "X.head()"
   ]
  },
  {
   "cell_type": "code",
   "execution_count": 58,
   "id": "18c3dc4b-fc32-4068-8b6e-9cd17b9cf508",
   "metadata": {},
   "outputs": [
    {
     "data": {
      "text/html": [
       "<div>\n",
       "<style scoped>\n",
       "    .dataframe tbody tr th:only-of-type {\n",
       "        vertical-align: middle;\n",
       "    }\n",
       "\n",
       "    .dataframe tbody tr th {\n",
       "        vertical-align: top;\n",
       "    }\n",
       "\n",
       "    .dataframe thead th {\n",
       "        text-align: right;\n",
       "    }\n",
       "</style>\n",
       "<table border=\"1\" class=\"dataframe\">\n",
       "  <thead>\n",
       "    <tr style=\"text-align: right;\">\n",
       "      <th></th>\n",
       "      <th>memory_anomaly</th>\n",
       "      <th>cpu_anomaly</th>\n",
       "      <th>dr_anomaly</th>\n",
       "    </tr>\n",
       "  </thead>\n",
       "  <tbody>\n",
       "    <tr>\n",
       "      <th>0</th>\n",
       "      <td>0</td>\n",
       "      <td>0</td>\n",
       "      <td>0</td>\n",
       "    </tr>\n",
       "    <tr>\n",
       "      <th>1</th>\n",
       "      <td>0</td>\n",
       "      <td>0</td>\n",
       "      <td>0</td>\n",
       "    </tr>\n",
       "    <tr>\n",
       "      <th>2</th>\n",
       "      <td>0</td>\n",
       "      <td>0</td>\n",
       "      <td>0</td>\n",
       "    </tr>\n",
       "    <tr>\n",
       "      <th>3</th>\n",
       "      <td>0</td>\n",
       "      <td>0</td>\n",
       "      <td>0</td>\n",
       "    </tr>\n",
       "    <tr>\n",
       "      <th>4</th>\n",
       "      <td>0</td>\n",
       "      <td>0</td>\n",
       "      <td>0</td>\n",
       "    </tr>\n",
       "  </tbody>\n",
       "</table>\n",
       "</div>"
      ],
      "text/plain": [
       "   memory_anomaly  cpu_anomaly  dr_anomaly\n",
       "0               0            0           0\n",
       "1               0            0           0\n",
       "2               0            0           0\n",
       "3               0            0           0\n",
       "4               0            0           0"
      ]
     },
     "execution_count": 58,
     "metadata": {},
     "output_type": "execute_result"
    }
   ],
   "source": [
    "y = df[['memory_anomaly', 'cpu_anomaly', 'dr_anomaly']]\n",
    "y.head()"
   ]
  },
  {
   "cell_type": "code",
   "execution_count": 59,
   "id": "c892b839-0838-4032-b9f0-7a76d87eed4c",
   "metadata": {},
   "outputs": [
    {
     "data": {
      "text/plain": [
       "RandomForestClassifier(max_depth=2, random_state=23)"
      ]
     },
     "execution_count": 59,
     "metadata": {},
     "output_type": "execute_result"
    }
   ],
   "source": [
    "clf.fit(X, y)"
   ]
  },
  {
   "cell_type": "markdown",
   "id": "fcf9aa26-6d2f-4d5d-9264-a4502a13bb7c",
   "metadata": {},
   "source": [
    "Generate a new dataset"
   ]
  },
  {
   "cell_type": "code",
   "execution_count": 60,
   "id": "1eaa3a50-357f-4124-9c4c-75f060e12ab3",
   "metadata": {},
   "outputs": [],
   "source": [
    "data_test = mvn_random_walk(n=N,\n",
    "                       start=np.array([mem_mean, cpu_mean, dr_mean]),\n",
    "                       cov=[[mem_v, 2.0, 0], [2.0, cpu_v, 0], [0, 0, dr_v]],\n",
    "                       min_allowed=[mem_min, cpu_min, dr_min],\n",
    "                       max_allowed=[mem_max, cpu_max, dr_max],\n",
    "                       anomaly_scale=1.5,\n",
    "                       anomaly_rate=0.01,\n",
    "                       sticky=True)"
   ]
  },
  {
   "cell_type": "code",
   "execution_count": 61,
   "id": "795a0d92-1716-49a9-a590-43a5bcf494a0",
   "metadata": {},
   "outputs": [
    {
     "data": {
      "text/plain": [
       "<matplotlib.legend.Legend at 0x127dda520>"
      ]
     },
     "execution_count": 61,
     "metadata": {},
     "output_type": "execute_result"
    },
    {
     "data": {
      "image/png": "[encoded data removed]",
      "text/plain": [
       "<Figure size 432x288 with 1 Axes>"
      ]
     },
     "metadata": {
      "needs_background": "light"
     },
     "output_type": "display_data"
    }
   ],
   "source": [
    "for i in [0, 1, 2]:\n",
    "    plt.plot(normalise(data_test[:,i]))\n",
    "\n",
    "plt.legend(['Memory', 'CPU', 'Disk reads'], loc='upper left')"
   ]
  },
  {
   "cell_type": "code",
   "execution_count": 62,
   "id": "c4789744-0ac8-4ce8-8647-ca08d757a2db",
   "metadata": {},
   "outputs": [
    {
     "name": "stderr",
     "output_type": "stream",
     "text": [
      "/Users/rui/.virtualenvs/shi-models/lib/python3.9/site-packages/sklearn/base.py:445: UserWarning: X does not have valid feature names, but RandomForestClassifier was fitted with feature names\n",
      "  warnings.warn(\n"
     ]
    }
   ],
   "source": [
    "predictions = clf.predict(data_test)"
   ]
  },
  {
   "cell_type": "code",
   "execution_count": 63,
   "id": "e1591f8c-c146-4e5d-a5e9-dfa7faa30615",
   "metadata": {},
   "outputs": [
    {
     "data": {
      "text/html": [
       "<div>\n",
       "<style scoped>\n",
       "    .dataframe tbody tr th:only-of-type {\n",
       "        vertical-align: middle;\n",
       "    }\n",
       "\n",
       "    .dataframe tbody tr th {\n",
       "        vertical-align: top;\n",
       "    }\n",
       "\n",
       "    .dataframe thead th {\n",
       "        text-align: right;\n",
       "    }\n",
       "</style>\n",
       "<table border=\"1\" class=\"dataframe\">\n",
       "  <thead>\n",
       "    <tr style=\"text-align: right;\">\n",
       "      <th></th>\n",
       "      <th>memory</th>\n",
       "      <th>cpu</th>\n",
       "      <th>dr</th>\n",
       "    </tr>\n",
       "  </thead>\n",
       "  <tbody>\n",
       "    <tr>\n",
       "      <th>0</th>\n",
       "      <td>100.000000</td>\n",
       "      <td>1.000000</td>\n",
       "      <td>10.000000</td>\n",
       "    </tr>\n",
       "    <tr>\n",
       "      <th>1</th>\n",
       "      <td>100.067604</td>\n",
       "      <td>0.000000</td>\n",
       "      <td>4.941189</td>\n",
       "    </tr>\n",
       "    <tr>\n",
       "      <th>2</th>\n",
       "      <td>101.333298</td>\n",
       "      <td>1.998685</td>\n",
       "      <td>9.723096</td>\n",
       "    </tr>\n",
       "    <tr>\n",
       "      <th>3</th>\n",
       "      <td>100.571918</td>\n",
       "      <td>3.042405</td>\n",
       "      <td>7.814683</td>\n",
       "    </tr>\n",
       "    <tr>\n",
       "      <th>4</th>\n",
       "      <td>98.616287</td>\n",
       "      <td>0.000000</td>\n",
       "      <td>4.438423</td>\n",
       "    </tr>\n",
       "  </tbody>\n",
       "</table>\n",
       "</div>"
      ],
      "text/plain": [
       "       memory       cpu         dr\n",
       "0  100.000000  1.000000  10.000000\n",
       "1  100.067604  0.000000   4.941189\n",
       "2  101.333298  1.998685   9.723096\n",
       "3  100.571918  3.042405   7.814683\n",
       "4   98.616287  0.000000   4.438423"
      ]
     },
     "execution_count": 63,
     "metadata": {},
     "output_type": "execute_result"
    }
   ],
   "source": [
    "df_test = pd.DataFrame()\n",
    "df_test['memory'] = data_test[:,0]\n",
    "df_test['cpu'] = data_test[:,1]\n",
    "df_test['dr'] = data_test[:,2]\n",
    "df_test.head()"
   ]
  },
  {
   "cell_type": "code",
   "execution_count": 64,
   "id": "0f91161a-c96b-43c8-9206-12fb57943caa",
   "metadata": {},
   "outputs": [
    {
     "data": {
      "text/html": [
       "<div>\n",
       "<style scoped>\n",
       "    .dataframe tbody tr th:only-of-type {\n",
       "        vertical-align: middle;\n",
       "    }\n",
       "\n",
       "    .dataframe tbody tr th {\n",
       "        vertical-align: top;\n",
       "    }\n",
       "\n",
       "    .dataframe thead th {\n",
       "        text-align: right;\n",
       "    }\n",
       "</style>\n",
       "<table border=\"1\" class=\"dataframe\">\n",
       "  <thead>\n",
       "    <tr style=\"text-align: right;\">\n",
       "      <th></th>\n",
       "      <th>memory</th>\n",
       "      <th>cpu</th>\n",
       "      <th>dr</th>\n",
       "      <th>memory_anomaly</th>\n",
       "      <th>cpu_anomaly</th>\n",
       "      <th>dr_anomaly</th>\n",
       "    </tr>\n",
       "  </thead>\n",
       "  <tbody>\n",
       "    <tr>\n",
       "      <th>0</th>\n",
       "      <td>100.000000</td>\n",
       "      <td>1.000000</td>\n",
       "      <td>10.000000</td>\n",
       "      <td>0</td>\n",
       "      <td>0</td>\n",
       "      <td>0</td>\n",
       "    </tr>\n",
       "    <tr>\n",
       "      <th>1</th>\n",
       "      <td>100.067604</td>\n",
       "      <td>0.000000</td>\n",
       "      <td>4.941189</td>\n",
       "      <td>0</td>\n",
       "      <td>0</td>\n",
       "      <td>0</td>\n",
       "    </tr>\n",
       "    <tr>\n",
       "      <th>2</th>\n",
       "      <td>101.333298</td>\n",
       "      <td>1.998685</td>\n",
       "      <td>9.723096</td>\n",
       "      <td>0</td>\n",
       "      <td>0</td>\n",
       "      <td>0</td>\n",
       "    </tr>\n",
       "    <tr>\n",
       "      <th>3</th>\n",
       "      <td>100.571918</td>\n",
       "      <td>3.042405</td>\n",
       "      <td>7.814683</td>\n",
       "      <td>0</td>\n",
       "      <td>0</td>\n",
       "      <td>0</td>\n",
       "    </tr>\n",
       "    <tr>\n",
       "      <th>4</th>\n",
       "      <td>98.616287</td>\n",
       "      <td>0.000000</td>\n",
       "      <td>4.438423</td>\n",
       "      <td>0</td>\n",
       "      <td>0</td>\n",
       "      <td>0</td>\n",
       "    </tr>\n",
       "  </tbody>\n",
       "</table>\n",
       "</div>"
      ],
      "text/plain": [
       "       memory       cpu         dr  memory_anomaly  cpu_anomaly  dr_anomaly\n",
       "0  100.000000  1.000000  10.000000               0            0           0\n",
       "1  100.067604  0.000000   4.941189               0            0           0\n",
       "2  101.333298  1.998685   9.723096               0            0           0\n",
       "3  100.571918  3.042405   7.814683               0            0           0\n",
       "4   98.616287  0.000000   4.438423               0            0           0"
      ]
     },
     "execution_count": 64,
     "metadata": {},
     "output_type": "execute_result"
    }
   ],
   "source": [
    "df_test['memory_anomaly'] = predictions[:,0]\n",
    "df_test['cpu_anomaly'] = predictions[:,1]\n",
    "df_test['dr_anomaly'] = predictions[:,2]\n",
    "df_test.head()"
   ]
  },
  {
   "cell_type": "code",
   "execution_count": 65,
   "id": "5a504b6a-3acf-4cb4-81de-5736d66b4930",
   "metadata": {},
   "outputs": [
    {
     "data": {
      "text/plain": [
       "<matplotlib.collections.PathCollection at 0x13c49ef10>"
      ]
     },
     "execution_count": 65,
     "metadata": {},
     "output_type": "execute_result"
    },
    {
     "data": {
      "image/png": "[encoded data removed]",
      "text/plain": [
       "<Figure size 432x288 with 1 Axes>"
      ]
     },
     "metadata": {
      "needs_background": "light"
     },
     "output_type": "display_data"
    }
   ],
   "source": [
    "plt.scatter(x=range(len(df_test['memory'])), y=df_test['memory'], c=list(df_test['memory_anomaly'].map({0: 'black', 1: 'red'})), s=1)"
   ]
  },
  {
   "cell_type": "code",
   "execution_count": 66,
   "id": "a7fb2e59-36a8-45e8-9c19-21c427bc7d47",
   "metadata": {},
   "outputs": [
    {
     "data": {
      "text/plain": [
       "<matplotlib.collections.PathCollection at 0x13c445580>"
      ]
     },
     "execution_count": 66,
     "metadata": {},
     "output_type": "execute_result"
    },
    {
     "data": {
      "image/png": "[encoded data removed]",
      "text/plain": [
       "<Figure size 432x288 with 1 Axes>"
      ]
     },
     "metadata": {
      "needs_background": "light"
     },
     "output_type": "display_data"
    }
   ],
   "source": [
    "plt.scatter(x=range(len(df_test['cpu'])), y=df_test['cpu'], c=list(df_test['cpu_anomaly'].map({0: 'black', 1: 'red'})), s=1)"
   ]
  },
  {
   "cell_type": "code",
   "execution_count": 67,
   "id": "1a7bb4ca-dfdd-47e2-bf6f-bc44904494b4",
   "metadata": {},
   "outputs": [
    {
     "data": {
      "text/plain": [
       "<matplotlib.collections.PathCollection at 0x13c5a4460>"
      ]
     },
     "execution_count": 67,
     "metadata": {},
     "output_type": "execute_result"
    },
    {
     "data": {
      "image/png": "[encoded data removed]",
      "text/plain": [
       "<Figure size 432x288 with 1 Axes>"
      ]
     },
     "metadata": {
      "needs_background": "light"
     },
     "output_type": "display_data"
    }
   ],
   "source": [
    "plt.scatter(x=range(len(df_test['dr'])), y=df_test['dr'], c=list(df_test['dr_anomaly'].map({0: 'black', 1: 'red'})), s=1)"
   ]
  },
  {
   "cell_type": "markdown",
   "id": "ed33151e-936e-42a7-ae7f-3093b2d15fe3",
   "metadata": {},
   "source": [
    "# Severity\n",
    "\n",
    "Consider the number of high resource usage alarms, that is, a severity of level `3` would mean all three alarms are set."
   ]
  },
  {
   "cell_type": "code",
   "execution_count": 68,
   "id": "b29785ad-4212-4273-a2d1-246c67f14407",
   "metadata": {},
   "outputs": [
    {
     "data": {
      "text/html": [
       "<div>\n",
       "<style scoped>\n",
       "    .dataframe tbody tr th:only-of-type {\n",
       "        vertical-align: middle;\n",
       "    }\n",
       "\n",
       "    .dataframe tbody tr th {\n",
       "        vertical-align: top;\n",
       "    }\n",
       "\n",
       "    .dataframe thead th {\n",
       "        text-align: right;\n",
       "    }\n",
       "</style>\n",
       "<table border=\"1\" class=\"dataframe\">\n",
       "  <thead>\n",
       "    <tr style=\"text-align: right;\">\n",
       "      <th></th>\n",
       "      <th>memory</th>\n",
       "      <th>cpu</th>\n",
       "      <th>dr</th>\n",
       "      <th>memory_anomaly</th>\n",
       "      <th>cpu_anomaly</th>\n",
       "      <th>dr_anomaly</th>\n",
       "      <th>severity</th>\n",
       "    </tr>\n",
       "  </thead>\n",
       "  <tbody>\n",
       "    <tr>\n",
       "      <th>2282</th>\n",
       "      <td>15994.528552</td>\n",
       "      <td>98.507928</td>\n",
       "      <td>4991.663678</td>\n",
       "      <td>0</td>\n",
       "      <td>0</td>\n",
       "      <td>0</td>\n",
       "      <td>0</td>\n",
       "    </tr>\n",
       "    <tr>\n",
       "      <th>840</th>\n",
       "      <td>468.543495</td>\n",
       "      <td>88.901467</td>\n",
       "      <td>2.287208</td>\n",
       "      <td>1</td>\n",
       "      <td>0</td>\n",
       "      <td>1</td>\n",
       "      <td>2</td>\n",
       "    </tr>\n",
       "    <tr>\n",
       "      <th>1861</th>\n",
       "      <td>5188.824848</td>\n",
       "      <td>97.813202</td>\n",
       "      <td>457.692895</td>\n",
       "      <td>1</td>\n",
       "      <td>0</td>\n",
       "      <td>1</td>\n",
       "      <td>2</td>\n",
       "    </tr>\n",
       "    <tr>\n",
       "      <th>1073</th>\n",
       "      <td>440.440696</td>\n",
       "      <td>37.838992</td>\n",
       "      <td>31.582037</td>\n",
       "      <td>1</td>\n",
       "      <td>0</td>\n",
       "      <td>0</td>\n",
       "      <td>1</td>\n",
       "    </tr>\n",
       "    <tr>\n",
       "      <th>4645</th>\n",
       "      <td>15984.288721</td>\n",
       "      <td>84.377078</td>\n",
       "      <td>4896.234179</td>\n",
       "      <td>0</td>\n",
       "      <td>0</td>\n",
       "      <td>0</td>\n",
       "      <td>0</td>\n",
       "    </tr>\n",
       "    <tr>\n",
       "      <th>338</th>\n",
       "      <td>130.666057</td>\n",
       "      <td>30.115841</td>\n",
       "      <td>17.312900</td>\n",
       "      <td>0</td>\n",
       "      <td>0</td>\n",
       "      <td>0</td>\n",
       "      <td>0</td>\n",
       "    </tr>\n",
       "    <tr>\n",
       "      <th>3118</th>\n",
       "      <td>15958.149473</td>\n",
       "      <td>32.729515</td>\n",
       "      <td>4955.994112</td>\n",
       "      <td>0</td>\n",
       "      <td>0</td>\n",
       "      <td>0</td>\n",
       "      <td>0</td>\n",
       "    </tr>\n",
       "    <tr>\n",
       "      <th>4756</th>\n",
       "      <td>15970.894196</td>\n",
       "      <td>68.563788</td>\n",
       "      <td>4862.539658</td>\n",
       "      <td>1</td>\n",
       "      <td>0</td>\n",
       "      <td>0</td>\n",
       "      <td>1</td>\n",
       "    </tr>\n",
       "    <tr>\n",
       "      <th>1197</th>\n",
       "      <td>444.558885</td>\n",
       "      <td>55.774014</td>\n",
       "      <td>48.218965</td>\n",
       "      <td>1</td>\n",
       "      <td>0</td>\n",
       "      <td>1</td>\n",
       "      <td>2</td>\n",
       "    </tr>\n",
       "    <tr>\n",
       "      <th>936</th>\n",
       "      <td>467.415477</td>\n",
       "      <td>48.262371</td>\n",
       "      <td>10.849539</td>\n",
       "      <td>1</td>\n",
       "      <td>0</td>\n",
       "      <td>1</td>\n",
       "      <td>2</td>\n",
       "    </tr>\n",
       "    <tr>\n",
       "      <th>3968</th>\n",
       "      <td>15995.103625</td>\n",
       "      <td>97.364970</td>\n",
       "      <td>4997.418282</td>\n",
       "      <td>0</td>\n",
       "      <td>0</td>\n",
       "      <td>0</td>\n",
       "      <td>0</td>\n",
       "    </tr>\n",
       "    <tr>\n",
       "      <th>2210</th>\n",
       "      <td>15992.100346</td>\n",
       "      <td>82.373005</td>\n",
       "      <td>4944.321300</td>\n",
       "      <td>0</td>\n",
       "      <td>0</td>\n",
       "      <td>0</td>\n",
       "      <td>0</td>\n",
       "    </tr>\n",
       "    <tr>\n",
       "      <th>4184</th>\n",
       "      <td>15996.041287</td>\n",
       "      <td>99.898094</td>\n",
       "      <td>4932.709246</td>\n",
       "      <td>0</td>\n",
       "      <td>0</td>\n",
       "      <td>0</td>\n",
       "      <td>0</td>\n",
       "    </tr>\n",
       "    <tr>\n",
       "      <th>996</th>\n",
       "      <td>468.905145</td>\n",
       "      <td>71.925431</td>\n",
       "      <td>42.616307</td>\n",
       "      <td>1</td>\n",
       "      <td>0</td>\n",
       "      <td>1</td>\n",
       "      <td>2</td>\n",
       "    </tr>\n",
       "    <tr>\n",
       "      <th>4024</th>\n",
       "      <td>15993.211903</td>\n",
       "      <td>87.211935</td>\n",
       "      <td>4959.233174</td>\n",
       "      <td>0</td>\n",
       "      <td>0</td>\n",
       "      <td>0</td>\n",
       "      <td>0</td>\n",
       "    </tr>\n",
       "    <tr>\n",
       "      <th>7</th>\n",
       "      <td>101.198282</td>\n",
       "      <td>2.388338</td>\n",
       "      <td>6.524280</td>\n",
       "      <td>0</td>\n",
       "      <td>0</td>\n",
       "      <td>0</td>\n",
       "      <td>0</td>\n",
       "    </tr>\n",
       "    <tr>\n",
       "      <th>1960</th>\n",
       "      <td>15995.154016</td>\n",
       "      <td>95.531852</td>\n",
       "      <td>4997.467948</td>\n",
       "      <td>0</td>\n",
       "      <td>0</td>\n",
       "      <td>0</td>\n",
       "      <td>0</td>\n",
       "    </tr>\n",
       "    <tr>\n",
       "      <th>1988</th>\n",
       "      <td>15990.847074</td>\n",
       "      <td>86.487678</td>\n",
       "      <td>4983.967871</td>\n",
       "      <td>0</td>\n",
       "      <td>0</td>\n",
       "      <td>0</td>\n",
       "      <td>0</td>\n",
       "    </tr>\n",
       "    <tr>\n",
       "      <th>4838</th>\n",
       "      <td>15978.269582</td>\n",
       "      <td>71.955235</td>\n",
       "      <td>4895.265104</td>\n",
       "      <td>0</td>\n",
       "      <td>0</td>\n",
       "      <td>0</td>\n",
       "      <td>0</td>\n",
       "    </tr>\n",
       "    <tr>\n",
       "      <th>4674</th>\n",
       "      <td>15978.399853</td>\n",
       "      <td>78.938864</td>\n",
       "      <td>4866.928570</td>\n",
       "      <td>0</td>\n",
       "      <td>0</td>\n",
       "      <td>0</td>\n",
       "      <td>0</td>\n",
       "    </tr>\n",
       "  </tbody>\n",
       "</table>\n",
       "</div>"
      ],
      "text/plain": [
       "            memory        cpu           dr  memory_anomaly  cpu_anomaly  \\\n",
       "2282  15994.528552  98.507928  4991.663678               0            0   \n",
       "840     468.543495  88.901467     2.287208               1            0   \n",
       "1861   5188.824848  97.813202   457.692895               1            0   \n",
       "1073    440.440696  37.838992    31.582037               1            0   \n",
       "4645  15984.288721  84.377078  4896.234179               0            0   \n",
       "338     130.666057  30.115841    17.312900               0            0   \n",
       "3118  15958.149473  32.729515  4955.994112               0            0   \n",
       "4756  15970.894196  68.563788  4862.539658               1            0   \n",
       "1197    444.558885  55.774014    48.218965               1            0   \n",
       "936     467.415477  48.262371    10.849539               1            0   \n",
       "3968  15995.103625  97.364970  4997.418282               0            0   \n",
       "2210  15992.100346  82.373005  4944.321300               0            0   \n",
       "4184  15996.041287  99.898094  4932.709246               0            0   \n",
       "996     468.905145  71.925431    42.616307               1            0   \n",
       "4024  15993.211903  87.211935  4959.233174               0            0   \n",
       "7       101.198282   2.388338     6.524280               0            0   \n",
       "1960  15995.154016  95.531852  4997.467948               0            0   \n",
       "1988  15990.847074  86.487678  4983.967871               0            0   \n",
       "4838  15978.269582  71.955235  4895.265104               0            0   \n",
       "4674  15978.399853  78.938864  4866.928570               0            0   \n",
       "\n",
       "      dr_anomaly  severity  \n",
       "2282           0         0  \n",
       "840            1         2  \n",
       "1861           1         2  \n",
       "1073           0         1  \n",
       "4645           0         0  \n",
       "338            0         0  \n",
       "3118           0         0  \n",
       "4756           0         1  \n",
       "1197           1         2  \n",
       "936            1         2  \n",
       "3968           0         0  \n",
       "2210           0         0  \n",
       "4184           0         0  \n",
       "996            1         2  \n",
       "4024           0         0  \n",
       "7              0         0  \n",
       "1960           0         0  \n",
       "1988           0         0  \n",
       "4838           0         0  \n",
       "4674           0         0  "
      ]
     },
     "execution_count": 68,
     "metadata": {},
     "output_type": "execute_result"
    }
   ],
   "source": [
    "df_test['severity'] = df_test[['memory_anomaly', 'cpu_anomaly', 'dr_anomaly']].sum(axis=1)\n",
    "df_test.sample(20)"
   ]
  },
  {
   "cell_type": "code",
   "execution_count": null,
   "id": "2d064064-5b6a-4316-b886-54b59ada7a29",
   "metadata": {},
   "outputs": [],
   "source": []
  }
 ],
 "metadata": {
  "kernelspec": {
   "display_name": "shi-models",
   "language": "python",
   "name": "shi-models"
  },
  "language_info": {
   "codemirror_mode": {
    "name": "ipython",
    "version": 3
   },
   "file_extension": ".py",
   "mimetype": "text/x-python",
   "name": "python",
   "nbconvert_exporter": "python",
   "pygments_lexer": "ipython3",
   "version": "3.9.9"
  }
 },
 "nbformat": 4,
 "nbformat_minor": 5
}
